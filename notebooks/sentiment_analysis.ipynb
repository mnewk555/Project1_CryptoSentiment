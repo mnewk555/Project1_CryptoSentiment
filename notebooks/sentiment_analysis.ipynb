{
 "cells": [
  {
   "cell_type": "code",
   "execution_count": null,
   "metadata": {},
   "outputs": [],
   "source": [
    "##trying to test sentiment analysis \n",
    "from textblob import TextBlob #move to top when merging with other script\n",
    "\n",
    "#pull the tweet text as a list from the data frame\n",
    "tweet_text_list = df_tweets_found.text.tolist()\n",
    "print(tweet_text_list)\n",
    "\n",
    "#analyzing for sentiment\n",
    "\n",
    "sentiment_rating = [TextBlob(tweet) for tweet in tweet_text_list]\n",
    "\n",
    "sentiment_rating[0].polarity , sentiment_rating[0]\n",
    "\n",
    "\n",
    "#append the sentiment rating list to the tweet data frame to create a new data frame with date, user, sentiment, and text\n",
    "\n"
   ]
  }
 ],
 "metadata": {
  "kernelspec": {
   "display_name": "Python 3",
   "language": "python",
   "name": "python3"
  },
  "language_info": {
   "codemirror_mode": {
    "name": "ipython",
    "version": 3
   },
   "file_extension": ".py",
   "mimetype": "text/x-python",
   "name": "python",
   "nbconvert_exporter": "python",
   "pygments_lexer": "ipython3",
   "version": "3.8.3"
  }
 },
 "nbformat": 4,
 "nbformat_minor": 4
}
