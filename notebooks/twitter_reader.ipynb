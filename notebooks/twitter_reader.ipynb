{
 "cells": [
  {
   "cell_type": "code",
   "execution_count": 1,
   "metadata": {},
   "outputs": [
    {
     "data": {
      "text/plain": [
       "True"
      ]
     },
     "execution_count": 1,
     "metadata": {},
     "output_type": "execute_result"
    }
   ],
   "source": [
    "#Import Various Libraries, including Tweepy, a Python library for the Twitter API.\n",
    "import os\n",
    "import requests\n",
    "import pandas as pd\n",
    "from dotenv import load_dotenv\n",
    "#%matplotlib inline\n",
    "import tweepy\n",
    "\n",
    "load_dotenv()"
   ]
  },
  {
   "cell_type": "code",
   "execution_count": 91,
   "metadata": {},
   "outputs": [],
   "source": [
    "#Pass API Keys to Twitter API and build Tweepy API handler object.\n",
    "consumer_key = os.getenv('TWITTER_API_KEY')\n",
    "consumer_secret = os.getenv('TWITTER_SECRET_KEY')\n",
    "auth = tweepy.AppAuthHandler(consumer_key, consumer_secret)\n",
    "api = tweepy.API(auth)"
   ]
  },
  {
   "cell_type": "code",
   "execution_count": 92,
   "metadata": {},
   "outputs": [
    {
     "data": {
      "text/html": [
       "<div>\n",
       "<style scoped>\n",
       "    .dataframe tbody tr th:only-of-type {\n",
       "        vertical-align: middle;\n",
       "    }\n",
       "\n",
       "    .dataframe tbody tr th {\n",
       "        vertical-align: top;\n",
       "    }\n",
       "\n",
       "    .dataframe thead th {\n",
       "        text-align: right;\n",
       "    }\n",
       "</style>\n",
       "<table border=\"1\" class=\"dataframe\">\n",
       "  <thead>\n",
       "    <tr style=\"text-align: right;\">\n",
       "      <th></th>\n",
       "      <th>twitter_user</th>\n",
       "      <th>category</th>\n",
       "      <th>time</th>\n",
       "      <th>sentiment</th>\n",
       "      <th>text</th>\n",
       "    </tr>\n",
       "  </thead>\n",
       "  <tbody>\n",
       "  </tbody>\n",
       "</table>\n",
       "</div>"
      ],
      "text/plain": [
       "Empty DataFrame\n",
       "Columns: [twitter_user, category, time, sentiment, text]\n",
       "Index: []"
      ]
     },
     "execution_count": 92,
     "metadata": {},
     "output_type": "execute_result"
    }
   ],
   "source": [
    "#Creating a DataFrame for tweet search results data structure.\n",
    "#Index:User, Columns=['Category','Time','Sentiment','Text']\n",
    "dict_tweet_structure = {\"twitter_user\":[],\"category\":[],\"time\":[],\"sentiment\":[],\"text\":\"\"}\n",
    "df_tweets_found = pd.DataFrame(dict_tweet_structure)\n",
    "df_tweets_found"
   ]
  },
  {
   "cell_type": "code",
   "execution_count": 102,
   "metadata": {},
   "outputs": [],
   "source": [
    "#Define Search Term Library\n",
    "dict_search_terms = {'bitcoin':['bitcoin','btc','#bitcoin','#btc',],\n",
    "                     'generic':['cryptocurrency','crypto','blockchain', 'struggle']}\n",
    "#Define Twitter User List\n",
    "list_twitterers = ['joerogan','elonmusk']"
   ]
  },
  {
   "cell_type": "code",
   "execution_count": 36,
   "metadata": {},
   "outputs": [],
   "source": [
    "#Function for creating search query string for tweepy.Cursor(api.search).\n",
    "def query_creator(list_keywords, twitter_user = \"!\", mood = \"!\"):\n",
    "    query = \"(\"\n",
    "    for keyword in (list_keywords):\n",
    "        query += keyword\n",
    "        if keyword != list_keywords[-1]:\n",
    "            query += \" OR \"\n",
    "        else:\n",
    "            query += \")\"\n",
    "    if twitter_user != \"!\":\n",
    "        query += \" from:\" + twitter_user\n",
    "    return query"
   ]
  },
  {
   "cell_type": "code",
   "execution_count": 32,
   "metadata": {
    "jupyter": {
     "source_hidden": true
    }
   },
   "outputs": [],
   "source": [
    "#Function for creating search query string for tweepy.Cursor(api.search_full_archive).\n",
    "def query_creator_full(list_keywords, twitter_user = \"!\", mood = \"!\"):\n",
    "    query = \" \"\n",
    "    query = query.join(list_keywords)\n",
    "    #print(query)\n",
    "    if twitter_user != \"!\":\n",
    "        query += \" from:\" + twitter_user\n",
    "        #print(query)\n",
    "    return query"
   ]
  },
  {
   "cell_type": "code",
   "execution_count": 101,
   "metadata": {},
   "outputs": [],
   "source": [
    "#This function is the core algo for tweet searching.\n",
    "def tweet_search(string_query, date_from = \"202001010000\", date_to = \"202101170000\", number_tweets = 100):\n",
    "    for tweets in tweepy.Cursor(api.search_full_archive, query=query, environment_name='CryptoSentimentFullArc', fromDate=date_since_pro, toDate=date_from_pro).items(100):\n",
    "        screen_name = tweets.user.screen_name\n",
    "        #for\n",
    "        category = category_key(tweets.text ,dict_search_terms)\n",
    "        yield [screen_name, category, str(tweets.created_at), \"\", tweets.text]"
   ]
  },
  {
   "cell_type": "code",
   "execution_count": 88,
   "metadata": {},
   "outputs": [],
   "source": [
    "#Function for generating a string list of categories from the presence of keywords in text.\n",
    "def category_key(text_block,dict_keywords):\n",
    "    category_list = []\n",
    "    output = \" \"\n",
    "    contents = text_block.lower()\n",
    "    for key in dict_keywords:\n",
    "        for keyword in dict_keywords[key]:\n",
    "            if keyword in contents:\n",
    "                category_list.append(key)\n",
    "    return output.join(category_list)"
   ]
  },
  {
   "cell_type": "code",
   "execution_count": 14,
   "metadata": {
    "jupyter": {
     "source_hidden": true
    }
   },
   "outputs": [
    {
     "name": "stdout",
     "output_type": "stream",
     "text": [
      "Self imposed struggle is essential for a clear mind. @onnit https://t.co/mvd8yseLc6 2021-01-15 17:29:42+00:00\n",
      "\n"
     ]
    }
   ],
   "source": [
    "\n",
    "for tweet in tweepy.Cursor(api.search, q='cryptocurrency OR crypto OR blockchain OR struggle from:joerogan').items(1000):\n",
    "    print(tweet.text + \" \" + str(tweet.created_at)+\"\\n\")"
   ]
  },
  {
   "cell_type": "code",
   "execution_count": 5,
   "metadata": {
    "jupyter": {
     "source_hidden": true
    }
   },
   "outputs": [],
   "source": [
    "#Defunct Old Method\n",
    "def tweet_gather(keywords, user_id):\n",
    "    #contents = \"\"\n",
    "    for tweet in tweepy.Cursor(api.user_timeline, id=user_id).items():\n",
    "        \"\"\"if tweet.truncated == True:\n",
    "            contents = tweet.full_text\n",
    "        else:\n",
    "            contents = str(tweet.text).lower()\"\"\"\n",
    "        \n",
    "        contents = tweet.text.lower()\n",
    "        #contents = contents.lower() \n",
    "        for word in keywords:           \n",
    "            if word.lower() in contents:\n",
    "                #print(tweet.text + \" \" + str(tweet.created_at)+\"\\n\")\n",
    "                \"\"\"Here we can append to a pd.DataFrame that collects the twitter handle, keywords used, keyword category\n",
    "                   for ex:'bitcoin' for hits on 'bitcoin' or 'btc', as well as any sentiment rating we create.\n",
    "                   Ulitmately we can then export that DataFrame to csv file.\"\"\"\n",
    "                yield tweet.text, str(tweet.created_at)"
   ]
  },
  {
   "cell_type": "code",
   "execution_count": null,
   "metadata": {},
   "outputs": [],
   "source": []
  },
  {
   "cell_type": "code",
   "execution_count": 6,
   "metadata": {
    "collapsed": true,
    "jupyter": {
     "outputs_hidden": true,
     "source_hidden": true
    }
   },
   "outputs": [
    {
     "name": "stdout",
     "output_type": "stream",
     "text": [
      "('Bitcoin is almost as bs as fiat money', '2020-12-20 09:24:37+00:00')\n",
      "('Bitcoin is my safe word', '2020-12-20 08:21:25+00:00')\n",
      "('@Maisie_Williams 🎶 Toss a bitcoin to ur Witcher 🎶', '2020-11-16 22:02:51+00:00')\n",
      "('@jk_rowling I still only own 0.25 Bitcoins btw', '2020-05-15 22:51:44+00:00')\n",
      "('@jk_rowling Pretty much, although massive currency issuance by govt central banks is making Bitcoin Internet 👻 mone… https://t.co/pczxGWBebT', '2020-05-15 22:03:01+00:00')\n",
      "('@Bitcoin How much for some anime Bitcoin? https://t.co/itqRslFNcb', '2020-05-01 22:44:56+00:00')\n",
      "('@Bitcoin 🤣🤣', '2020-05-01 22:34:24+00:00')\n"
     ]
    }
   ],
   "source": [
    "\"\"\"Proposed structure for target terms = [{'bitcoin':['bitcoin','btc ','#bitcoin','#btc']}\n",
    "                                         {'generic':['cryptocurrency','crypto','words about crypto']}]\"\"\"\n",
    "words_crypto = ['Bitcoin',]#'Etherium','btc ','crypto','Litecoin','Eth ','python']\n",
    "user_handle = 'elonmusk'\n",
    "tweet_tuple = tweet_gather(words_crypto,user_handle)\n",
    "for stuff in tweet_tuple:\n",
    "    print(stuff)"
   ]
  },
  {
   "cell_type": "code",
   "execution_count": 97,
   "metadata": {},
   "outputs": [
    {
     "name": "stdout",
     "output_type": "stream",
     "text": [
      "(cryptocurrency OR crypto OR blockchain OR struggle OR bitcoin OR btc OR #bitcoin OR #btc) from:joerogan\n"
     ]
    }
   ],
   "source": [
    "#Testing Query Creator\n",
    "dict_search_terms = {'bitcoin':['bitcoin','btc','#bitcoin','#btc',],\n",
    "                     'generic':['cryptocurrency','crypto','blockchain', 'struggle']}\n",
    "#print(query_creator(dict_search_terms[0]['bitcoin']))\n",
    "#print(dict_search_terms['generic'])\n",
    "query = query_creator(dict_search_terms['generic']+dict_search_terms['bitcoin'], 'joerogan')\n",
    "#query = \" \"\n",
    "#query = query.join(dict_search_terms['generic'])\n",
    "#query += \" from:joerogan\"\n",
    "#query += \" -is:retweet\"\n",
    "date_since_pro = \"202001140000\"\n",
    "date_from_pro = \"202101170000\"\n",
    "print(query)"
   ]
  },
  {
   "cell_type": "code",
   "execution_count": 98,
   "metadata": {},
   "outputs": [],
   "source": [
    "#Testing primary search and DataFrame append.\n",
    "#for tweet in tweepy.Cursor(api.search_full_archive, query=query, environment_name='CryptoSentimentFullArc', fromDate=date_since_pro, toDate=date_from_pro).items(100):\n",
    "   # print(tweet.text + \" \" + str(tweet.created_at)+\"\\n\")\n",
    "search_results = tweet_search(query)\n",
    "for tweets in search_results:\n",
    "    #print (tweet)\n",
    "    series_result = pd.Series(tweets, index=df_tweets_found.columns)\n",
    "    df_tweets_found = df_tweets_found.append(series_result, ignore_index=True)"
   ]
  },
  {
   "cell_type": "code",
   "execution_count": 99,
   "metadata": {},
   "outputs": [
    {
     "data": {
      "text/html": [
       "<div>\n",
       "<style scoped>\n",
       "    .dataframe tbody tr th:only-of-type {\n",
       "        vertical-align: middle;\n",
       "    }\n",
       "\n",
       "    .dataframe tbody tr th {\n",
       "        vertical-align: top;\n",
       "    }\n",
       "\n",
       "    .dataframe thead th {\n",
       "        text-align: right;\n",
       "    }\n",
       "</style>\n",
       "<table border=\"1\" class=\"dataframe\">\n",
       "  <thead>\n",
       "    <tr style=\"text-align: right;\">\n",
       "      <th></th>\n",
       "      <th>twitter_user</th>\n",
       "      <th>category</th>\n",
       "      <th>time</th>\n",
       "      <th>sentiment</th>\n",
       "      <th>text</th>\n",
       "    </tr>\n",
       "  </thead>\n",
       "  <tbody>\n",
       "    <tr>\n",
       "      <th>0</th>\n",
       "      <td>elonmusk</td>\n",
       "      <td>bitcoin</td>\n",
       "      <td>2021-01-15 06:44:22+00:00</td>\n",
       "      <td></td>\n",
       "      <td>Bitcoin is almost as bs as fiat money</td>\n",
       "    </tr>\n",
       "    <tr>\n",
       "      <th>1</th>\n",
       "      <td>elonmusk</td>\n",
       "      <td>bitcoin</td>\n",
       "      <td>2021-01-15 06:44:22+00:00</td>\n",
       "      <td></td>\n",
       "      <td>Bitcoin is my safe word</td>\n",
       "    </tr>\n",
       "    <tr>\n",
       "      <th>2</th>\n",
       "      <td>elonmusk</td>\n",
       "      <td></td>\n",
       "      <td>2021-01-15 06:44:22+00:00</td>\n",
       "      <td></td>\n",
       "      <td>@trylolli @Maisie_Williams 👻 💵 \\nhttps://t.co/...</td>\n",
       "    </tr>\n",
       "    <tr>\n",
       "      <th>3</th>\n",
       "      <td>elonmusk</td>\n",
       "      <td>bitcoin</td>\n",
       "      <td>2021-01-15 06:44:22+00:00</td>\n",
       "      <td></td>\n",
       "      <td>@Maisie_Williams 🎶 Toss a bitcoin to ur Witcher 🎶</td>\n",
       "    </tr>\n",
       "    <tr>\n",
       "      <th>4</th>\n",
       "      <td>elonmusk</td>\n",
       "      <td>bitcoin</td>\n",
       "      <td>2021-01-15 06:44:22+00:00</td>\n",
       "      <td></td>\n",
       "      <td>@jk_rowling Pretty much, although massive curr...</td>\n",
       "    </tr>\n",
       "    <tr>\n",
       "      <th>5</th>\n",
       "      <td>elonmusk</td>\n",
       "      <td>bitcoin</td>\n",
       "      <td>2021-01-15 06:44:22+00:00</td>\n",
       "      <td></td>\n",
       "      <td>@Bitcoin How much for some anime Bitcoin? http...</td>\n",
       "    </tr>\n",
       "    <tr>\n",
       "      <th>6</th>\n",
       "      <td>elonmusk</td>\n",
       "      <td>bitcoin</td>\n",
       "      <td>2021-01-15 06:44:22+00:00</td>\n",
       "      <td></td>\n",
       "      <td>@Bitcoin 🤣🤣</td>\n",
       "    </tr>\n",
       "    <tr>\n",
       "      <th>7</th>\n",
       "      <td>elonmusk</td>\n",
       "      <td>generic</td>\n",
       "      <td>2021-01-15 06:44:22+00:00</td>\n",
       "      <td></td>\n",
       "      <td>@nichegamer The crypto scam level on Twitter i...</td>\n",
       "    </tr>\n",
       "    <tr>\n",
       "      <th>8</th>\n",
       "      <td>joerogan</td>\n",
       "      <td>generic</td>\n",
       "      <td>2021-01-15 06:44:22+00:00</td>\n",
       "      <td></td>\n",
       "      <td>Self imposed struggle is essential for a clear...</td>\n",
       "    </tr>\n",
       "    <tr>\n",
       "      <th>9</th>\n",
       "      <td>joerogan</td>\n",
       "      <td>generic</td>\n",
       "      <td>2021-01-15 06:44:22+00:00</td>\n",
       "      <td></td>\n",
       "      <td>My favorite tools of self-imposed struggle; th...</td>\n",
       "    </tr>\n",
       "    <tr>\n",
       "      <th>10</th>\n",
       "      <td>joerogan</td>\n",
       "      <td></td>\n",
       "      <td>2021-01-15 06:44:22+00:00</td>\n",
       "      <td></td>\n",
       "      <td>RT @Snowden: I have seen more calls for pardon...</td>\n",
       "    </tr>\n",
       "    <tr>\n",
       "      <th>11</th>\n",
       "      <td>joerogan</td>\n",
       "      <td>generic</td>\n",
       "      <td>2021-01-15 06:44:22+00:00</td>\n",
       "      <td></td>\n",
       "      <td>RT @MsMelChen: Where there is little danger, t...</td>\n",
       "    </tr>\n",
       "  </tbody>\n",
       "</table>\n",
       "</div>"
      ],
      "text/plain": [
       "   twitter_user category                       time sentiment  \\\n",
       "0      elonmusk  bitcoin  2021-01-15 06:44:22+00:00             \n",
       "1      elonmusk  bitcoin  2021-01-15 06:44:22+00:00             \n",
       "2      elonmusk           2021-01-15 06:44:22+00:00             \n",
       "3      elonmusk  bitcoin  2021-01-15 06:44:22+00:00             \n",
       "4      elonmusk  bitcoin  2021-01-15 06:44:22+00:00             \n",
       "5      elonmusk  bitcoin  2021-01-15 06:44:22+00:00             \n",
       "6      elonmusk  bitcoin  2021-01-15 06:44:22+00:00             \n",
       "7      elonmusk  generic  2021-01-15 06:44:22+00:00             \n",
       "8      joerogan  generic  2021-01-15 06:44:22+00:00             \n",
       "9      joerogan  generic  2021-01-15 06:44:22+00:00             \n",
       "10     joerogan           2021-01-15 06:44:22+00:00             \n",
       "11     joerogan  generic  2021-01-15 06:44:22+00:00             \n",
       "\n",
       "                                                 text  \n",
       "0               Bitcoin is almost as bs as fiat money  \n",
       "1                             Bitcoin is my safe word  \n",
       "2   @trylolli @Maisie_Williams 👻 💵 \\nhttps://t.co/...  \n",
       "3   @Maisie_Williams 🎶 Toss a bitcoin to ur Witcher 🎶  \n",
       "4   @jk_rowling Pretty much, although massive curr...  \n",
       "5   @Bitcoin How much for some anime Bitcoin? http...  \n",
       "6                                         @Bitcoin 🤣🤣  \n",
       "7   @nichegamer The crypto scam level on Twitter i...  \n",
       "8   Self imposed struggle is essential for a clear...  \n",
       "9   My favorite tools of self-imposed struggle; th...  \n",
       "10  RT @Snowden: I have seen more calls for pardon...  \n",
       "11  RT @MsMelChen: Where there is little danger, t...  "
      ]
     },
     "execution_count": 99,
     "metadata": {},
     "output_type": "execute_result"
    }
   ],
   "source": [
    "df_tweets_found"
   ]
  },
  {
   "cell_type": "code",
   "execution_count": 100,
   "metadata": {},
   "outputs": [
    {
     "data": {
      "text/plain": [
       "'@jk_rowling Pretty much, although massive currency issuance by govt central banks is making Bitcoin Internet 👻 mone… https://t.co/pczxGWBebT'"
      ]
     },
     "execution_count": 100,
     "metadata": {},
     "output_type": "execute_result"
    }
   ],
   "source": [
    "df_tweets_found.loc[4]['text']"
   ]
  },
  {
   "cell_type": "code",
   "execution_count": 7,
   "metadata": {},
   "outputs": [
    {
     "name": "stdout",
     "output_type": "stream",
     "text": [
      "@Maisie_Williams 🎶 Toss a bitcoin to ur Witcher 🎶\n"
     ]
    }
   ],
   "source": [
    "for tweet in tweepy.Cursor(api.user_timeline, id='elonmusk').items():\n",
    "    if 'bitcoin' in tweet.text:\n",
    "        print(tweet.text + \" \" + str(tweet.created_at)+\"\\n\")"
   ]
  },
  {
   "cell_type": "code",
   "execution_count": 55,
   "metadata": {},
   "outputs": [
    {
     "name": "stdout",
     "output_type": "stream",
     "text": [
      "Monty Python is amazing\n",
      "https://t.co/UJq94IWT88\n"
     ]
    },
    {
     "ename": "TypeError",
     "evalue": "'User' object is not subscriptable",
     "output_type": "error",
     "traceback": [
      "\u001b[1;31m---------------------------------------------------------------------------\u001b[0m",
      "\u001b[1;31mTypeError\u001b[0m                                 Traceback (most recent call last)",
      "\u001b[1;32m<ipython-input-55-29a20d223434>\u001b[0m in \u001b[0;36m<module>\u001b[1;34m\u001b[0m\n\u001b[0;32m      2\u001b[0m     \u001b[1;32mif\u001b[0m \u001b[1;34m'Python'\u001b[0m \u001b[1;32min\u001b[0m \u001b[0mtweet\u001b[0m\u001b[1;33m.\u001b[0m\u001b[0mtext\u001b[0m\u001b[1;33m:\u001b[0m\u001b[1;33m\u001b[0m\u001b[1;33m\u001b[0m\u001b[0m\n\u001b[0;32m      3\u001b[0m         \u001b[0mprint\u001b[0m\u001b[1;33m(\u001b[0m\u001b[0mtweet\u001b[0m\u001b[1;33m.\u001b[0m\u001b[0mtext\u001b[0m\u001b[1;33m)\u001b[0m\u001b[1;33m\u001b[0m\u001b[1;33m\u001b[0m\u001b[0m\n\u001b[1;32m----> 4\u001b[1;33m         \u001b[0mprint\u001b[0m\u001b[1;33m(\u001b[0m\u001b[0mtweet\u001b[0m\u001b[1;33m.\u001b[0m\u001b[0muser\u001b[0m\u001b[1;33m[\u001b[0m\u001b[1;34m'id_str'\u001b[0m\u001b[1;33m]\u001b[0m\u001b[1;33m)\u001b[0m\u001b[1;33m\u001b[0m\u001b[1;33m\u001b[0m\u001b[0m\n\u001b[0m",
      "\u001b[1;31mTypeError\u001b[0m: 'User' object is not subscriptable"
     ]
    }
   ],
   "source": [
    "for tweet in tweepy.Cursor(api.user_timeline, id=\"elonmusk\").items(100):\n",
    "    if 'Python' in tweet.text:\n",
    "        print(tweet.text)\n",
    "        print(tweet.user['id_str'])"
   ]
  },
  {
   "cell_type": "code",
   "execution_count": null,
   "metadata": {},
   "outputs": [],
   "source": []
  }
 ],
 "metadata": {
  "kernelspec": {
   "display_name": "Python 3",
   "language": "python",
   "name": "python3"
  },
  "language_info": {
   "codemirror_mode": {
    "name": "ipython",
    "version": 3
   },
   "file_extension": ".py",
   "mimetype": "text/x-python",
   "name": "python",
   "nbconvert_exporter": "python",
   "pygments_lexer": "ipython3",
   "version": "3.7.9"
  }
 },
 "nbformat": 4,
 "nbformat_minor": 4
}
