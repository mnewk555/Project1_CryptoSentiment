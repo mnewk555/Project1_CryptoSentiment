{
 "cells": [
  {
   "cell_type": "code",
   "execution_count": 24,
   "metadata": {},
   "outputs": [],
   "source": [
    "# Import Various Libraries, including Tweepy, a Python library for the Twitter API,\n",
    "# and TextBlob, a library with a sentiment analysis method.\n",
    "import os\n",
    "import requests\n",
    "import pandas as pd\n",
    "import hvplot.pandas\n",
    "from dotenv import load_dotenv\n",
    "from textblob import TextBlob \n",
    "#%matplotlib inline\n",
    "import tweepy\n",
    "#import twitter_reader.py\n",
    "load_dotenv()\n",
    "##########Micheal imports\n",
    "import panel as pn\n",
    "pn.extension('plotly')\n",
    "from panel.interact import interact\n",
    "from panel import widgets\n",
    "import plotly.express as px\n",
    "import hvplot.pandas\n",
    "import matplotlib.pyplot as plt\n",
    "from pathlib import Path\n",
    "import requests\n",
    "import json\n",
    "import numpy as np\n",
    "%matplotlib inline\n",
    "from datetime import date\n",
    "from datetime import timedelta\n",
    "pd.options.display.float_format = '{:.2f}'.format"
   ]
  },
  {
   "cell_type": "code",
   "execution_count": 25,
   "metadata": {},
   "outputs": [
    {
     "ename": "TweepError",
     "evalue": "Expected token_type to equal \"bearer\", but got None instead",
     "output_type": "error",
     "traceback": [
      "\u001b[1;31m---------------------------------------------------------------------------\u001b[0m",
      "\u001b[1;31mTweepError\u001b[0m                                Traceback (most recent call last)",
      "\u001b[1;32m<ipython-input-25-f4102bc717b7>\u001b[0m in \u001b[0;36m<module>\u001b[1;34m\u001b[0m\n\u001b[0;32m      2\u001b[0m \u001b[0mconsumer_key\u001b[0m \u001b[1;33m=\u001b[0m \u001b[0mos\u001b[0m\u001b[1;33m.\u001b[0m\u001b[0mgetenv\u001b[0m\u001b[1;33m(\u001b[0m\u001b[1;34m'TWITTER_API_KEY'\u001b[0m\u001b[1;33m)\u001b[0m\u001b[1;33m\u001b[0m\u001b[1;33m\u001b[0m\u001b[0m\n\u001b[0;32m      3\u001b[0m \u001b[0mconsumer_secret\u001b[0m \u001b[1;33m=\u001b[0m \u001b[0mos\u001b[0m\u001b[1;33m.\u001b[0m\u001b[0mgetenv\u001b[0m\u001b[1;33m(\u001b[0m\u001b[1;34m'TWITTER_SECRET_KEY'\u001b[0m\u001b[1;33m)\u001b[0m\u001b[1;33m\u001b[0m\u001b[1;33m\u001b[0m\u001b[0m\n\u001b[1;32m----> 4\u001b[1;33m \u001b[0mauth\u001b[0m \u001b[1;33m=\u001b[0m \u001b[0mtweepy\u001b[0m\u001b[1;33m.\u001b[0m\u001b[0mAppAuthHandler\u001b[0m\u001b[1;33m(\u001b[0m\u001b[0mconsumer_key\u001b[0m\u001b[1;33m,\u001b[0m \u001b[0mconsumer_secret\u001b[0m\u001b[1;33m)\u001b[0m\u001b[1;33m\u001b[0m\u001b[1;33m\u001b[0m\u001b[0m\n\u001b[0m\u001b[0;32m      5\u001b[0m \u001b[0mapi\u001b[0m \u001b[1;33m=\u001b[0m \u001b[0mtweepy\u001b[0m\u001b[1;33m.\u001b[0m\u001b[0mAPI\u001b[0m\u001b[1;33m(\u001b[0m\u001b[0mauth\u001b[0m\u001b[1;33m)\u001b[0m\u001b[1;33m\u001b[0m\u001b[1;33m\u001b[0m\u001b[0m\n",
      "\u001b[1;32m~\\anaconda3\\lib\\site-packages\\tweepy\\auth.py\u001b[0m in \u001b[0;36m__init__\u001b[1;34m(self, consumer_key, consumer_secret)\u001b[0m\n\u001b[0;32m    173\u001b[0m         \u001b[0mdata\u001b[0m \u001b[1;33m=\u001b[0m \u001b[0mresp\u001b[0m\u001b[1;33m.\u001b[0m\u001b[0mjson\u001b[0m\u001b[1;33m(\u001b[0m\u001b[1;33m)\u001b[0m\u001b[1;33m\u001b[0m\u001b[1;33m\u001b[0m\u001b[0m\n\u001b[0;32m    174\u001b[0m         \u001b[1;32mif\u001b[0m \u001b[0mdata\u001b[0m\u001b[1;33m.\u001b[0m\u001b[0mget\u001b[0m\u001b[1;33m(\u001b[0m\u001b[1;34m'token_type'\u001b[0m\u001b[1;33m)\u001b[0m \u001b[1;33m!=\u001b[0m \u001b[1;34m'bearer'\u001b[0m\u001b[1;33m:\u001b[0m\u001b[1;33m\u001b[0m\u001b[1;33m\u001b[0m\u001b[0m\n\u001b[1;32m--> 175\u001b[1;33m             raise TweepError('Expected token_type to equal \"bearer\", '\n\u001b[0m\u001b[0;32m    176\u001b[0m                              'but got %s instead' % data.get('token_type'))\n\u001b[0;32m    177\u001b[0m \u001b[1;33m\u001b[0m\u001b[0m\n",
      "\u001b[1;31mTweepError\u001b[0m: Expected token_type to equal \"bearer\", but got None instead"
     ]
    }
   ],
   "source": [
    "#Pass API Keys to Twitter API and build Tweepy API handler object.\n",
    "consumer_key = os.getenv('TWITTER_API_KEY')\n",
    "consumer_secret = os.getenv('TWITTER_SECRET_KEY')\n",
    "auth = tweepy.AppAuthHandler(consumer_key, consumer_secret)\n",
    "api = tweepy.API(auth)"
   ]
  },
  {
   "cell_type": "code",
   "execution_count": 3,
   "metadata": {},
   "outputs": [
    {
     "ename": "FileNotFoundError",
     "evalue": "[Errno 2] File ../data/raw_data/cleaner_tweets.csv does not exist: '../data/raw_data/cleaner_tweets.csv'",
     "output_type": "error",
     "traceback": [
      "\u001b[1;31m---------------------------------------------------------------------------\u001b[0m",
      "\u001b[1;31mFileNotFoundError\u001b[0m                         Traceback (most recent call last)",
      "\u001b[1;32m<ipython-input-3-c8e4847b41a4>\u001b[0m in \u001b[0;36m<module>\u001b[1;34m\u001b[0m\n\u001b[0;32m      1\u001b[0m \u001b[1;31m#Read in Tweets Data\u001b[0m\u001b[1;33m\u001b[0m\u001b[1;33m\u001b[0m\u001b[1;33m\u001b[0m\u001b[0m\n\u001b[1;32m----> 2\u001b[1;33m \u001b[0mdf_tweets\u001b[0m \u001b[1;33m=\u001b[0m \u001b[0mpd\u001b[0m\u001b[1;33m.\u001b[0m\u001b[0mread_csv\u001b[0m\u001b[1;33m(\u001b[0m\u001b[1;34m'../data/raw_data/cleaner_tweets.csv'\u001b[0m\u001b[1;33m)\u001b[0m\u001b[1;33m\u001b[0m\u001b[1;33m\u001b[0m\u001b[0m\n\u001b[0m\u001b[0;32m      3\u001b[0m \u001b[0mdf_tweets\u001b[0m\u001b[1;33m.\u001b[0m\u001b[0mhead\u001b[0m\u001b[1;33m(\u001b[0m\u001b[1;33m)\u001b[0m\u001b[1;33m\u001b[0m\u001b[1;33m\u001b[0m\u001b[0m\n",
      "\u001b[1;32m~\\anaconda3\\lib\\site-packages\\pandas\\io\\parsers.py\u001b[0m in \u001b[0;36mparser_f\u001b[1;34m(filepath_or_buffer, sep, delimiter, header, names, index_col, usecols, squeeze, prefix, mangle_dupe_cols, dtype, engine, converters, true_values, false_values, skipinitialspace, skiprows, skipfooter, nrows, na_values, keep_default_na, na_filter, verbose, skip_blank_lines, parse_dates, infer_datetime_format, keep_date_col, date_parser, dayfirst, cache_dates, iterator, chunksize, compression, thousands, decimal, lineterminator, quotechar, quoting, doublequote, escapechar, comment, encoding, dialect, error_bad_lines, warn_bad_lines, delim_whitespace, low_memory, memory_map, float_precision)\u001b[0m\n\u001b[0;32m    674\u001b[0m         )\n\u001b[0;32m    675\u001b[0m \u001b[1;33m\u001b[0m\u001b[0m\n\u001b[1;32m--> 676\u001b[1;33m         \u001b[1;32mreturn\u001b[0m \u001b[0m_read\u001b[0m\u001b[1;33m(\u001b[0m\u001b[0mfilepath_or_buffer\u001b[0m\u001b[1;33m,\u001b[0m \u001b[0mkwds\u001b[0m\u001b[1;33m)\u001b[0m\u001b[1;33m\u001b[0m\u001b[1;33m\u001b[0m\u001b[0m\n\u001b[0m\u001b[0;32m    677\u001b[0m \u001b[1;33m\u001b[0m\u001b[0m\n\u001b[0;32m    678\u001b[0m     \u001b[0mparser_f\u001b[0m\u001b[1;33m.\u001b[0m\u001b[0m__name__\u001b[0m \u001b[1;33m=\u001b[0m \u001b[0mname\u001b[0m\u001b[1;33m\u001b[0m\u001b[1;33m\u001b[0m\u001b[0m\n",
      "\u001b[1;32m~\\anaconda3\\lib\\site-packages\\pandas\\io\\parsers.py\u001b[0m in \u001b[0;36m_read\u001b[1;34m(filepath_or_buffer, kwds)\u001b[0m\n\u001b[0;32m    446\u001b[0m \u001b[1;33m\u001b[0m\u001b[0m\n\u001b[0;32m    447\u001b[0m     \u001b[1;31m# Create the parser.\u001b[0m\u001b[1;33m\u001b[0m\u001b[1;33m\u001b[0m\u001b[1;33m\u001b[0m\u001b[0m\n\u001b[1;32m--> 448\u001b[1;33m     \u001b[0mparser\u001b[0m \u001b[1;33m=\u001b[0m \u001b[0mTextFileReader\u001b[0m\u001b[1;33m(\u001b[0m\u001b[0mfp_or_buf\u001b[0m\u001b[1;33m,\u001b[0m \u001b[1;33m**\u001b[0m\u001b[0mkwds\u001b[0m\u001b[1;33m)\u001b[0m\u001b[1;33m\u001b[0m\u001b[1;33m\u001b[0m\u001b[0m\n\u001b[0m\u001b[0;32m    449\u001b[0m \u001b[1;33m\u001b[0m\u001b[0m\n\u001b[0;32m    450\u001b[0m     \u001b[1;32mif\u001b[0m \u001b[0mchunksize\u001b[0m \u001b[1;32mor\u001b[0m \u001b[0miterator\u001b[0m\u001b[1;33m:\u001b[0m\u001b[1;33m\u001b[0m\u001b[1;33m\u001b[0m\u001b[0m\n",
      "\u001b[1;32m~\\anaconda3\\lib\\site-packages\\pandas\\io\\parsers.py\u001b[0m in \u001b[0;36m__init__\u001b[1;34m(self, f, engine, **kwds)\u001b[0m\n\u001b[0;32m    878\u001b[0m             \u001b[0mself\u001b[0m\u001b[1;33m.\u001b[0m\u001b[0moptions\u001b[0m\u001b[1;33m[\u001b[0m\u001b[1;34m\"has_index_names\"\u001b[0m\u001b[1;33m]\u001b[0m \u001b[1;33m=\u001b[0m \u001b[0mkwds\u001b[0m\u001b[1;33m[\u001b[0m\u001b[1;34m\"has_index_names\"\u001b[0m\u001b[1;33m]\u001b[0m\u001b[1;33m\u001b[0m\u001b[1;33m\u001b[0m\u001b[0m\n\u001b[0;32m    879\u001b[0m \u001b[1;33m\u001b[0m\u001b[0m\n\u001b[1;32m--> 880\u001b[1;33m         \u001b[0mself\u001b[0m\u001b[1;33m.\u001b[0m\u001b[0m_make_engine\u001b[0m\u001b[1;33m(\u001b[0m\u001b[0mself\u001b[0m\u001b[1;33m.\u001b[0m\u001b[0mengine\u001b[0m\u001b[1;33m)\u001b[0m\u001b[1;33m\u001b[0m\u001b[1;33m\u001b[0m\u001b[0m\n\u001b[0m\u001b[0;32m    881\u001b[0m \u001b[1;33m\u001b[0m\u001b[0m\n\u001b[0;32m    882\u001b[0m     \u001b[1;32mdef\u001b[0m \u001b[0mclose\u001b[0m\u001b[1;33m(\u001b[0m\u001b[0mself\u001b[0m\u001b[1;33m)\u001b[0m\u001b[1;33m:\u001b[0m\u001b[1;33m\u001b[0m\u001b[1;33m\u001b[0m\u001b[0m\n",
      "\u001b[1;32m~\\anaconda3\\lib\\site-packages\\pandas\\io\\parsers.py\u001b[0m in \u001b[0;36m_make_engine\u001b[1;34m(self, engine)\u001b[0m\n\u001b[0;32m   1112\u001b[0m     \u001b[1;32mdef\u001b[0m \u001b[0m_make_engine\u001b[0m\u001b[1;33m(\u001b[0m\u001b[0mself\u001b[0m\u001b[1;33m,\u001b[0m \u001b[0mengine\u001b[0m\u001b[1;33m=\u001b[0m\u001b[1;34m\"c\"\u001b[0m\u001b[1;33m)\u001b[0m\u001b[1;33m:\u001b[0m\u001b[1;33m\u001b[0m\u001b[1;33m\u001b[0m\u001b[0m\n\u001b[0;32m   1113\u001b[0m         \u001b[1;32mif\u001b[0m \u001b[0mengine\u001b[0m \u001b[1;33m==\u001b[0m \u001b[1;34m\"c\"\u001b[0m\u001b[1;33m:\u001b[0m\u001b[1;33m\u001b[0m\u001b[1;33m\u001b[0m\u001b[0m\n\u001b[1;32m-> 1114\u001b[1;33m             \u001b[0mself\u001b[0m\u001b[1;33m.\u001b[0m\u001b[0m_engine\u001b[0m \u001b[1;33m=\u001b[0m \u001b[0mCParserWrapper\u001b[0m\u001b[1;33m(\u001b[0m\u001b[0mself\u001b[0m\u001b[1;33m.\u001b[0m\u001b[0mf\u001b[0m\u001b[1;33m,\u001b[0m \u001b[1;33m**\u001b[0m\u001b[0mself\u001b[0m\u001b[1;33m.\u001b[0m\u001b[0moptions\u001b[0m\u001b[1;33m)\u001b[0m\u001b[1;33m\u001b[0m\u001b[1;33m\u001b[0m\u001b[0m\n\u001b[0m\u001b[0;32m   1115\u001b[0m         \u001b[1;32melse\u001b[0m\u001b[1;33m:\u001b[0m\u001b[1;33m\u001b[0m\u001b[1;33m\u001b[0m\u001b[0m\n\u001b[0;32m   1116\u001b[0m             \u001b[1;32mif\u001b[0m \u001b[0mengine\u001b[0m \u001b[1;33m==\u001b[0m \u001b[1;34m\"python\"\u001b[0m\u001b[1;33m:\u001b[0m\u001b[1;33m\u001b[0m\u001b[1;33m\u001b[0m\u001b[0m\n",
      "\u001b[1;32m~\\anaconda3\\lib\\site-packages\\pandas\\io\\parsers.py\u001b[0m in \u001b[0;36m__init__\u001b[1;34m(self, src, **kwds)\u001b[0m\n\u001b[0;32m   1889\u001b[0m         \u001b[0mkwds\u001b[0m\u001b[1;33m[\u001b[0m\u001b[1;34m\"usecols\"\u001b[0m\u001b[1;33m]\u001b[0m \u001b[1;33m=\u001b[0m \u001b[0mself\u001b[0m\u001b[1;33m.\u001b[0m\u001b[0musecols\u001b[0m\u001b[1;33m\u001b[0m\u001b[1;33m\u001b[0m\u001b[0m\n\u001b[0;32m   1890\u001b[0m \u001b[1;33m\u001b[0m\u001b[0m\n\u001b[1;32m-> 1891\u001b[1;33m         \u001b[0mself\u001b[0m\u001b[1;33m.\u001b[0m\u001b[0m_reader\u001b[0m \u001b[1;33m=\u001b[0m \u001b[0mparsers\u001b[0m\u001b[1;33m.\u001b[0m\u001b[0mTextReader\u001b[0m\u001b[1;33m(\u001b[0m\u001b[0msrc\u001b[0m\u001b[1;33m,\u001b[0m \u001b[1;33m**\u001b[0m\u001b[0mkwds\u001b[0m\u001b[1;33m)\u001b[0m\u001b[1;33m\u001b[0m\u001b[1;33m\u001b[0m\u001b[0m\n\u001b[0m\u001b[0;32m   1892\u001b[0m         \u001b[0mself\u001b[0m\u001b[1;33m.\u001b[0m\u001b[0munnamed_cols\u001b[0m \u001b[1;33m=\u001b[0m \u001b[0mself\u001b[0m\u001b[1;33m.\u001b[0m\u001b[0m_reader\u001b[0m\u001b[1;33m.\u001b[0m\u001b[0munnamed_cols\u001b[0m\u001b[1;33m\u001b[0m\u001b[1;33m\u001b[0m\u001b[0m\n\u001b[0;32m   1893\u001b[0m \u001b[1;33m\u001b[0m\u001b[0m\n",
      "\u001b[1;32mpandas\\_libs\\parsers.pyx\u001b[0m in \u001b[0;36mpandas._libs.parsers.TextReader.__cinit__\u001b[1;34m()\u001b[0m\n",
      "\u001b[1;32mpandas\\_libs\\parsers.pyx\u001b[0m in \u001b[0;36mpandas._libs.parsers.TextReader._setup_parser_source\u001b[1;34m()\u001b[0m\n",
      "\u001b[1;31mFileNotFoundError\u001b[0m: [Errno 2] File ../data/raw_data/cleaner_tweets.csv does not exist: '../data/raw_data/cleaner_tweets.csv'"
     ]
    }
   ],
   "source": [
    "#Read in Tweets Data\n",
    "df_tweets = pd.read_csv('../data/raw_data/cleaner_tweets.csv')\n",
    "df_tweets.head()"
   ]
  },
  {
   "cell_type": "code",
   "execution_count": 4,
   "metadata": {},
   "outputs": [
    {
     "ename": "NameError",
     "evalue": "name 'df_tweets' is not defined",
     "output_type": "error",
     "traceback": [
      "\u001b[1;31m---------------------------------------------------------------------------\u001b[0m",
      "\u001b[1;31mNameError\u001b[0m                                 Traceback (most recent call last)",
      "\u001b[1;32m<ipython-input-4-ff78fddbf190>\u001b[0m in \u001b[0;36m<module>\u001b[1;34m\u001b[0m\n\u001b[0;32m      1\u001b[0m \u001b[1;31m#Slicing the DataFrame of tweets by keyword category.\u001b[0m\u001b[1;33m\u001b[0m\u001b[1;33m\u001b[0m\u001b[1;33m\u001b[0m\u001b[0m\n\u001b[0;32m      2\u001b[0m \u001b[1;31m#df_tweets.reset_index(inplace=True)\u001b[0m\u001b[1;33m\u001b[0m\u001b[1;33m\u001b[0m\u001b[1;33m\u001b[0m\u001b[0m\n\u001b[1;32m----> 3\u001b[1;33m \u001b[0mdf_tweets\u001b[0m\u001b[1;33m[\u001b[0m\u001b[1;34m'time'\u001b[0m\u001b[1;33m]\u001b[0m\u001b[1;33m=\u001b[0m \u001b[0mpd\u001b[0m\u001b[1;33m.\u001b[0m\u001b[0mto_datetime\u001b[0m\u001b[1;33m(\u001b[0m\u001b[0mdf_tweets\u001b[0m\u001b[1;33m[\u001b[0m\u001b[1;34m'time'\u001b[0m\u001b[1;33m]\u001b[0m\u001b[1;33m,\u001b[0m\u001b[0mformat\u001b[0m\u001b[1;33m=\u001b[0m \u001b[1;34m'%b:%d:%Y'\u001b[0m\u001b[1;33m,\u001b[0m\u001b[0minfer_datetime_format\u001b[0m\u001b[1;33m=\u001b[0m\u001b[1;32mTrue\u001b[0m \u001b[1;33m)\u001b[0m\u001b[1;33m.\u001b[0m\u001b[0mdt\u001b[0m\u001b[1;33m.\u001b[0m\u001b[0mdate\u001b[0m\u001b[1;33m\u001b[0m\u001b[1;33m\u001b[0m\u001b[0m\n\u001b[0m\u001b[0;32m      4\u001b[0m \u001b[0mdf_tweets\u001b[0m \u001b[1;33m=\u001b[0m \u001b[0mdf_tweets\u001b[0m\u001b[1;33m.\u001b[0m\u001b[0mset_index\u001b[0m\u001b[1;33m(\u001b[0m\u001b[1;34m'time'\u001b[0m\u001b[1;33m)\u001b[0m\u001b[1;33m\u001b[0m\u001b[1;33m\u001b[0m\u001b[0m\n\u001b[0;32m      5\u001b[0m \u001b[0mdf_bitcoin_tweets\u001b[0m \u001b[1;33m=\u001b[0m \u001b[0mdf_tweets\u001b[0m\u001b[1;33m.\u001b[0m\u001b[0mloc\u001b[0m\u001b[1;33m[\u001b[0m\u001b[0mdf_tweets\u001b[0m\u001b[1;33m.\u001b[0m\u001b[0mcategory\u001b[0m\u001b[1;33m.\u001b[0m\u001b[0mstr\u001b[0m\u001b[1;33m.\u001b[0m\u001b[0mcontains\u001b[0m\u001b[1;33m(\u001b[0m\u001b[1;34m'bitcoin'\u001b[0m\u001b[1;33m)\u001b[0m\u001b[1;33m]\u001b[0m\u001b[1;33m\u001b[0m\u001b[1;33m\u001b[0m\u001b[0m\n",
      "\u001b[1;31mNameError\u001b[0m: name 'df_tweets' is not defined"
     ]
    }
   ],
   "source": [
    "#Slicing the DataFrame of tweets by keyword category.\n",
    "#df_tweets.reset_index(inplace=True)\n",
    "df_tweets['time']= pd.to_datetime(df_tweets['time'],format= '%b:%d:%Y',infer_datetime_format=True ).dt.date\n",
    "df_tweets = df_tweets.set_index('time')\n",
    "df_bitcoin_tweets = df_tweets.loc[df_tweets.category.str.contains('bitcoin')]\n",
    "df_ethereum_tweets = df_tweets.loc[df_tweets.category.str.contains('ethereum')]\n",
    "df_litecoin_tweets = df_tweets.loc[df_tweets.category.str.contains('litecoin')]\n",
    "df_generic_tweets = df_tweets.loc[df_tweets.category.str.contains('generic')]\n",
    "df_tweets.head()"
   ]
  },
  {
   "cell_type": "code",
   "execution_count": 5,
   "metadata": {},
   "outputs": [
    {
     "ename": "NameError",
     "evalue": "name 'df_bitcoin_tweets' is not defined",
     "output_type": "error",
     "traceback": [
      "\u001b[1;31m---------------------------------------------------------------------------\u001b[0m",
      "\u001b[1;31mNameError\u001b[0m                                 Traceback (most recent call last)",
      "\u001b[1;32m<ipython-input-5-81e681ceee3d>\u001b[0m in \u001b[0;36m<module>\u001b[1;34m\u001b[0m\n\u001b[0;32m      1\u001b[0m \u001b[1;31m#Calculating Rolling Sentiment Polarity average for each tweet category.\u001b[0m\u001b[1;33m\u001b[0m\u001b[1;33m\u001b[0m\u001b[1;33m\u001b[0m\u001b[0m\n\u001b[1;32m----> 2\u001b[1;33m \u001b[0mdf_bitcoin_tweets_rolling\u001b[0m \u001b[1;33m=\u001b[0m \u001b[0mdf_bitcoin_tweets\u001b[0m\u001b[1;33m[\u001b[0m\u001b[1;34m'Polarity Rating'\u001b[0m\u001b[1;33m]\u001b[0m\u001b[1;33m.\u001b[0m\u001b[0mrolling\u001b[0m\u001b[1;33m(\u001b[0m\u001b[0mwindow\u001b[0m\u001b[1;33m=\u001b[0m\u001b[1;36m50\u001b[0m\u001b[1;33m)\u001b[0m\u001b[1;33m.\u001b[0m\u001b[0mmean\u001b[0m\u001b[1;33m(\u001b[0m\u001b[1;33m)\u001b[0m\u001b[1;33m\u001b[0m\u001b[1;33m\u001b[0m\u001b[0m\n\u001b[0m\u001b[0;32m      3\u001b[0m \u001b[0mdf_ethereum_tweets_rolling\u001b[0m \u001b[1;33m=\u001b[0m \u001b[0mdf_ethereum_tweets\u001b[0m\u001b[1;33m[\u001b[0m\u001b[1;34m'Polarity Rating'\u001b[0m\u001b[1;33m]\u001b[0m\u001b[1;33m.\u001b[0m\u001b[0mrolling\u001b[0m\u001b[1;33m(\u001b[0m\u001b[0mwindow\u001b[0m\u001b[1;33m=\u001b[0m\u001b[1;36m50\u001b[0m\u001b[1;33m)\u001b[0m\u001b[1;33m.\u001b[0m\u001b[0mmean\u001b[0m\u001b[1;33m(\u001b[0m\u001b[1;33m)\u001b[0m\u001b[1;33m\u001b[0m\u001b[1;33m\u001b[0m\u001b[0m\n\u001b[0;32m      4\u001b[0m \u001b[0mdf_litecoin_tweets_rolling\u001b[0m \u001b[1;33m=\u001b[0m \u001b[0mdf_litecoin_tweets\u001b[0m\u001b[1;33m[\u001b[0m\u001b[1;34m'Polarity Rating'\u001b[0m\u001b[1;33m]\u001b[0m\u001b[1;33m.\u001b[0m\u001b[0mrolling\u001b[0m\u001b[1;33m(\u001b[0m\u001b[0mwindow\u001b[0m\u001b[1;33m=\u001b[0m\u001b[1;36m50\u001b[0m\u001b[1;33m)\u001b[0m\u001b[1;33m.\u001b[0m\u001b[0mmean\u001b[0m\u001b[1;33m(\u001b[0m\u001b[1;33m)\u001b[0m\u001b[1;33m\u001b[0m\u001b[1;33m\u001b[0m\u001b[0m\n\u001b[0;32m      5\u001b[0m \u001b[0mdf_generic_tweets_rolling\u001b[0m \u001b[1;33m=\u001b[0m \u001b[0mdf_generic_tweets\u001b[0m\u001b[1;33m[\u001b[0m\u001b[1;34m'Polarity Rating'\u001b[0m\u001b[1;33m]\u001b[0m\u001b[1;33m.\u001b[0m\u001b[0mrolling\u001b[0m\u001b[1;33m(\u001b[0m\u001b[0mwindow\u001b[0m\u001b[1;33m=\u001b[0m\u001b[1;36m50\u001b[0m\u001b[1;33m)\u001b[0m\u001b[1;33m.\u001b[0m\u001b[0mmean\u001b[0m\u001b[1;33m(\u001b[0m\u001b[1;33m)\u001b[0m\u001b[1;33m\u001b[0m\u001b[1;33m\u001b[0m\u001b[0m\n",
      "\u001b[1;31mNameError\u001b[0m: name 'df_bitcoin_tweets' is not defined"
     ]
    }
   ],
   "source": [
    "#Calculating Rolling Sentiment Polarity average for each tweet category.\n",
    "df_bitcoin_tweets_rolling = df_bitcoin_tweets['Polarity Rating'].rolling(window=50).mean()\n",
    "df_ethereum_tweets_rolling = df_ethereum_tweets['Polarity Rating'].rolling(window=50).mean()\n",
    "df_litecoin_tweets_rolling = df_litecoin_tweets['Polarity Rating'].rolling(window=50).mean()\n",
    "df_generic_tweets_rolling = df_generic_tweets['Polarity Rating'].rolling(window=50).mean()\n",
    "df_bitcoin_tweets_rolling"
   ]
  },
  {
   "cell_type": "code",
   "execution_count": 6,
   "metadata": {},
   "outputs": [
    {
     "ename": "NameError",
     "evalue": "name 'df_bitcoin_tweets_rolling' is not defined",
     "output_type": "error",
     "traceback": [
      "\u001b[1;31m---------------------------------------------------------------------------\u001b[0m",
      "\u001b[1;31mNameError\u001b[0m                                 Traceback (most recent call last)",
      "\u001b[1;32m<ipython-input-6-3ea19d911d49>\u001b[0m in \u001b[0;36m<module>\u001b[1;34m\u001b[0m\n\u001b[0;32m      2\u001b[0m \u001b[1;33m\u001b[0m\u001b[0m\n\u001b[0;32m      3\u001b[0m \u001b[0mformatter\u001b[0m \u001b[1;33m=\u001b[0m \u001b[0mDatetimeTickFormatter\u001b[0m\u001b[1;33m(\u001b[0m\u001b[0mmonths\u001b[0m\u001b[1;33m=\u001b[0m\u001b[1;34m'%b %Y'\u001b[0m\u001b[1;33m)\u001b[0m\u001b[1;33m\u001b[0m\u001b[1;33m\u001b[0m\u001b[0m\n\u001b[1;32m----> 4\u001b[1;33m \u001b[0mbitcoin_roller_graph\u001b[0m \u001b[1;33m=\u001b[0m \u001b[0mdf_bitcoin_tweets_rolling\u001b[0m\u001b[1;33m.\u001b[0m\u001b[0mhvplot\u001b[0m\u001b[1;33m(\u001b[0m\u001b[0mx\u001b[0m\u001b[1;33m=\u001b[0m\u001b[1;34m'time'\u001b[0m\u001b[1;33m,\u001b[0m\u001b[0my\u001b[0m\u001b[1;33m=\u001b[0m\u001b[1;33m[\u001b[0m\u001b[1;34m'Polarity Rating'\u001b[0m\u001b[1;33m]\u001b[0m\u001b[1;33m,\u001b[0m\u001b[0mxticks\u001b[0m\u001b[1;33m=\u001b[0m\u001b[1;36m12\u001b[0m\u001b[1;33m,\u001b[0m\u001b[0mcolor\u001b[0m\u001b[1;33m=\u001b[0m\u001b[1;34m'red'\u001b[0m\u001b[1;33m,\u001b[0m\u001b[0mwidth\u001b[0m\u001b[1;33m=\u001b[0m\u001b[1;36m1000\u001b[0m\u001b[1;33m,\u001b[0m \u001b[0mheight\u001b[0m\u001b[1;33m=\u001b[0m\u001b[1;36m500\u001b[0m\u001b[1;33m,\u001b[0m\u001b[0mxformatter\u001b[0m\u001b[1;33m=\u001b[0m\u001b[0mformatter\u001b[0m\u001b[1;33m)\u001b[0m\u001b[1;33m\u001b[0m\u001b[1;33m\u001b[0m\u001b[0m\n\u001b[0m\u001b[0;32m      5\u001b[0m \u001b[0methereum_roller_graph\u001b[0m \u001b[1;33m=\u001b[0m \u001b[0mdf_ethereum_tweets_rolling\u001b[0m\u001b[1;33m.\u001b[0m\u001b[0mhvplot\u001b[0m\u001b[1;33m(\u001b[0m\u001b[0mx\u001b[0m\u001b[1;33m=\u001b[0m\u001b[1;34m'time'\u001b[0m\u001b[1;33m,\u001b[0m\u001b[0my\u001b[0m\u001b[1;33m=\u001b[0m\u001b[1;33m[\u001b[0m\u001b[1;34m'Polarity Rating'\u001b[0m\u001b[1;33m]\u001b[0m\u001b[1;33m,\u001b[0m\u001b[0mxticks\u001b[0m\u001b[1;33m=\u001b[0m\u001b[1;36m12\u001b[0m\u001b[1;33m,\u001b[0m\u001b[0mcolor\u001b[0m\u001b[1;33m=\u001b[0m\u001b[1;34m'blue'\u001b[0m\u001b[1;33m,\u001b[0m\u001b[0mwidth\u001b[0m\u001b[1;33m=\u001b[0m\u001b[1;36m1000\u001b[0m\u001b[1;33m,\u001b[0m \u001b[0mheight\u001b[0m\u001b[1;33m=\u001b[0m\u001b[1;36m500\u001b[0m\u001b[1;33m,\u001b[0m\u001b[1;33m)\u001b[0m\u001b[1;33m\u001b[0m\u001b[1;33m\u001b[0m\u001b[0m\n\u001b[0;32m      6\u001b[0m \u001b[0mgeneric_roller_graph\u001b[0m \u001b[1;33m=\u001b[0m \u001b[0mdf_generic_tweets_rolling\u001b[0m\u001b[1;33m.\u001b[0m\u001b[0mhvplot\u001b[0m\u001b[1;33m(\u001b[0m\u001b[0mx\u001b[0m\u001b[1;33m=\u001b[0m\u001b[1;34m'time'\u001b[0m\u001b[1;33m,\u001b[0m\u001b[0my\u001b[0m\u001b[1;33m=\u001b[0m\u001b[1;33m[\u001b[0m\u001b[1;34m'Polarity Rating'\u001b[0m\u001b[1;33m]\u001b[0m\u001b[1;33m,\u001b[0m\u001b[0mxticks\u001b[0m\u001b[1;33m=\u001b[0m\u001b[1;36m12\u001b[0m\u001b[1;33m,\u001b[0m\u001b[0mcolor\u001b[0m\u001b[1;33m=\u001b[0m\u001b[1;34m'black'\u001b[0m\u001b[1;33m,\u001b[0m\u001b[0mwidth\u001b[0m\u001b[1;33m=\u001b[0m\u001b[1;36m1000\u001b[0m\u001b[1;33m,\u001b[0m \u001b[0mheight\u001b[0m\u001b[1;33m=\u001b[0m\u001b[1;36m500\u001b[0m\u001b[1;33m,\u001b[0m\u001b[1;33m)\u001b[0m\u001b[1;33m\u001b[0m\u001b[1;33m\u001b[0m\u001b[0m\n",
      "\u001b[1;31mNameError\u001b[0m: name 'df_bitcoin_tweets_rolling' is not defined"
     ]
    }
   ],
   "source": [
    "from bokeh.models.formatters import DatetimeTickFormatter\n",
    "\n",
    "formatter = DatetimeTickFormatter(months='%b %Y')\n",
    "bitcoin_roller_graph = df_bitcoin_tweets_rolling.hvplot(x='time',y=['Polarity Rating'],xticks=12,color='red',width=1000, height=500,xformatter=formatter)\n",
    "ethereum_roller_graph = df_ethereum_tweets_rolling.hvplot(x='time',y=['Polarity Rating'],xticks=12,color='blue',width=1000, height=500,)\n",
    "generic_roller_graph = df_generic_tweets_rolling.hvplot(x='time',y=['Polarity Rating'],xticks=12,color='black',width=1000, height=500,)\n",
    "litecoin_roller_graph = df_litecoin_tweets_rolling.hvplot(x='time',y=['Polarity Rating'],xticks=12,color='yellow',legend='top_left',width=1000, height=500,)\n",
    "tweets_graph = df_generic_tweets.hvplot(width=1000, height=500,x='time', y='Polarity Rating',rot=90,xticks=12,hover_cols = ['twitter_user','text'],\n",
    "                                        kind='scatter',aggregator='mean',color='twitter_user',xformatter=formatter)\n",
    "tweets_graph*generic_roller_graph"
   ]
  },
  {
   "cell_type": "code",
   "execution_count": 7,
   "metadata": {},
   "outputs": [
    {
     "ename": "NameError",
     "evalue": "name 'bitcoin_roller_graph' is not defined",
     "output_type": "error",
     "traceback": [
      "\u001b[1;31m---------------------------------------------------------------------------\u001b[0m",
      "\u001b[1;31mNameError\u001b[0m                                 Traceback (most recent call last)",
      "\u001b[1;32m<ipython-input-7-bccaa751e7cf>\u001b[0m in \u001b[0;36m<module>\u001b[1;34m\u001b[0m\n\u001b[1;32m----> 1\u001b[1;33m \u001b[0mbitcoin_roller_graph\u001b[0m \u001b[1;33m*\u001b[0m \u001b[0methereum_roller_graph\u001b[0m \u001b[1;33m*\u001b[0m \u001b[0mgeneric_roller_graph\u001b[0m \u001b[1;33m*\u001b[0m \u001b[0mlitecoin_roller_graph\u001b[0m\u001b[1;33m\u001b[0m\u001b[1;33m\u001b[0m\u001b[0m\n\u001b[0m",
      "\u001b[1;31mNameError\u001b[0m: name 'bitcoin_roller_graph' is not defined"
     ]
    }
   ],
   "source": [
    "bitcoin_roller_graph * ethereum_roller_graph * generic_roller_graph * litecoin_roller_graph"
   ]
  },
  {
   "cell_type": "code",
   "execution_count": 8,
   "metadata": {},
   "outputs": [
    {
     "ename": "NameError",
     "evalue": "name 'dict_tweet_structure' is not defined",
     "output_type": "error",
     "traceback": [
      "\u001b[1;31m---------------------------------------------------------------------------\u001b[0m",
      "\u001b[1;31mNameError\u001b[0m                                 Traceback (most recent call last)",
      "\u001b[1;32m<ipython-input-8-81323685c63f>\u001b[0m in \u001b[0;36m<module>\u001b[1;34m\u001b[0m\n\u001b[0;32m      5\u001b[0m                      \u001b[1;34m'litecoin'\u001b[0m\u001b[1;33m:\u001b[0m\u001b[1;33m[\u001b[0m\u001b[1;34m'litecoin'\u001b[0m\u001b[1;33m,\u001b[0m\u001b[1;34m'ltc'\u001b[0m\u001b[1;33m,\u001b[0m\u001b[1;34m'#litecoin'\u001b[0m\u001b[1;33m,\u001b[0m \u001b[1;34m'#ltc'\u001b[0m\u001b[1;33m]\u001b[0m\u001b[1;33m,\u001b[0m\u001b[1;33m\u001b[0m\u001b[1;33m\u001b[0m\u001b[0m\n\u001b[0;32m      6\u001b[0m                      'ethereum':['ethereum','eth','#ethereum','#eth']   }\n\u001b[1;32m----> 7\u001b[1;33m \u001b[0mdf_tweets_live\u001b[0m \u001b[1;33m=\u001b[0m \u001b[0mpd\u001b[0m\u001b[1;33m.\u001b[0m\u001b[0mDataFrame\u001b[0m\u001b[1;33m(\u001b[0m\u001b[0mdict_tweet_structure\u001b[0m\u001b[1;33m)\u001b[0m\u001b[1;33m\u001b[0m\u001b[1;33m\u001b[0m\u001b[0m\n\u001b[0m\u001b[0;32m      8\u001b[0m \u001b[0mquery\u001b[0m \u001b[1;33m=\u001b[0m \u001b[0mquery_creator\u001b[0m\u001b[1;33m(\u001b[0m\u001b[0mdict_search_terms\u001b[0m\u001b[1;33m[\u001b[0m\u001b[1;34m'generic'\u001b[0m\u001b[1;33m]\u001b[0m\u001b[1;33m+\u001b[0m\u001b[0mdict_search_terms\u001b[0m\u001b[1;33m[\u001b[0m\u001b[1;34m'bitcoin'\u001b[0m\u001b[1;33m]\u001b[0m\u001b[1;33m+\u001b[0m\u001b[0mdict_search_terms\u001b[0m\u001b[1;33m[\u001b[0m\u001b[1;34m'litecoin'\u001b[0m\u001b[1;33m]\u001b[0m\u001b[1;33m+\u001b[0m\u001b[0mdict_search_terms\u001b[0m\u001b[1;33m[\u001b[0m\u001b[1;34m'ethereum'\u001b[0m\u001b[1;33m]\u001b[0m\u001b[1;33m)\u001b[0m\u001b[1;33m\u001b[0m\u001b[1;33m\u001b[0m\u001b[0m\n\u001b[0;32m      9\u001b[0m \u001b[0mprint\u001b[0m\u001b[1;33m(\u001b[0m\u001b[0mquery\u001b[0m\u001b[1;33m)\u001b[0m\u001b[1;33m\u001b[0m\u001b[1;33m\u001b[0m\u001b[0m\n",
      "\u001b[1;31mNameError\u001b[0m: name 'dict_tweet_structure' is not defined"
     ]
    }
   ],
   "source": [
    "#Using recent search to generate recent tweets from anyone that include our keywords.\n",
    "#Define Search Term Library\n",
    "dict_search_terms = {'bitcoin':['bitcoin','btc','#bitcoin',],\n",
    "                     'generic':['cryptocurrency','blockchain'],\n",
    "                     'litecoin':['litecoin','ltc','#litecoin', '#ltc'],\n",
    "                     'ethereum':['ethereum','eth','#ethereum','#eth']   }\n",
    "df_tweets_live = pd.DataFrame(dict_tweet_structure)\n",
    "query = query_creator(dict_search_terms['generic']+dict_search_terms['bitcoin']+dict_search_terms['litecoin']+dict_search_terms['ethereum'])\n",
    "print(query)\n",
    "live_results = tweet_search_free(query, 1000)\n",
    "for tweets in live_results:\n",
    "    df_tweets_live = tweet_dataframe_append(live_results, df_tweets_live)\n",
    "    "
   ]
  },
  {
   "cell_type": "code",
   "execution_count": 9,
   "metadata": {},
   "outputs": [
    {
     "ename": "NameError",
     "evalue": "name 'df_tweets_live' is not defined",
     "output_type": "error",
     "traceback": [
      "\u001b[1;31m---------------------------------------------------------------------------\u001b[0m",
      "\u001b[1;31mNameError\u001b[0m                                 Traceback (most recent call last)",
      "\u001b[1;32m<ipython-input-9-f106f7eb7d32>\u001b[0m in \u001b[0;36m<module>\u001b[1;34m\u001b[0m\n\u001b[1;32m----> 1\u001b[1;33m \u001b[0mpolarity_test\u001b[0m \u001b[1;33m=\u001b[0m \u001b[0mdf_tweets_live\u001b[0m\u001b[1;33m\u001b[0m\u001b[1;33m\u001b[0m\u001b[0m\n\u001b[0m\u001b[0;32m      2\u001b[0m \u001b[0mpolarity_test\u001b[0m\u001b[1;33m.\u001b[0m\u001b[0mhead\u001b[0m\u001b[1;33m(\u001b[0m\u001b[1;33m)\u001b[0m\u001b[1;33m\u001b[0m\u001b[1;33m\u001b[0m\u001b[0m\n",
      "\u001b[1;31mNameError\u001b[0m: name 'df_tweets_live' is not defined"
     ]
    }
   ],
   "source": [
    "polarity_test = df_tweets_live\n",
    "polarity_test.head()"
   ]
  },
  {
   "cell_type": "code",
   "execution_count": 10,
   "metadata": {},
   "outputs": [
    {
     "ename": "NameError",
     "evalue": "name 'polarity_test' is not defined",
     "output_type": "error",
     "traceback": [
      "\u001b[1;31m---------------------------------------------------------------------------\u001b[0m",
      "\u001b[1;31mNameError\u001b[0m                                 Traceback (most recent call last)",
      "\u001b[1;32m<ipython-input-10-14aa7b4761b7>\u001b[0m in \u001b[0;36m<module>\u001b[1;34m\u001b[0m\n\u001b[1;32m----> 1\u001b[1;33m \u001b[0mpolarity_test\u001b[0m\u001b[1;33m[\u001b[0m\u001b[1;34m'time'\u001b[0m\u001b[1;33m]\u001b[0m \u001b[1;33m=\u001b[0m \u001b[0mpd\u001b[0m\u001b[1;33m.\u001b[0m\u001b[0mto_datetime\u001b[0m\u001b[1;33m(\u001b[0m\u001b[0mpolarity_test\u001b[0m\u001b[1;33m[\u001b[0m\u001b[1;34m'time'\u001b[0m\u001b[1;33m]\u001b[0m\u001b[1;33m,\u001b[0m\u001b[0mformat\u001b[0m\u001b[1;33m=\u001b[0m \u001b[1;34m'%M:%S'\u001b[0m\u001b[1;33m,\u001b[0m\u001b[0minfer_datetime_format\u001b[0m\u001b[1;33m=\u001b[0m\u001b[1;32mTrue\u001b[0m \u001b[1;33m)\u001b[0m\u001b[1;33m.\u001b[0m\u001b[0mdt\u001b[0m\u001b[1;33m.\u001b[0m\u001b[0mtime\u001b[0m\u001b[1;33m\u001b[0m\u001b[1;33m\u001b[0m\u001b[0m\n\u001b[0m",
      "\u001b[1;31mNameError\u001b[0m: name 'polarity_test' is not defined"
     ]
    }
   ],
   "source": [
    "polarity_test['time'] = pd.to_datetime(polarity_test['time'],format= '%M:%S',infer_datetime_format=True ).dt.time"
   ]
  },
  {
   "cell_type": "code",
   "execution_count": 11,
   "metadata": {},
   "outputs": [
    {
     "ename": "NameError",
     "evalue": "name 'polarity_test' is not defined",
     "output_type": "error",
     "traceback": [
      "\u001b[1;31m---------------------------------------------------------------------------\u001b[0m",
      "\u001b[1;31mNameError\u001b[0m                                 Traceback (most recent call last)",
      "\u001b[1;32m<ipython-input-11-bd124b84f000>\u001b[0m in \u001b[0;36m<module>\u001b[1;34m\u001b[0m\n\u001b[1;32m----> 1\u001b[1;33m \u001b[0mrolling_poll\u001b[0m \u001b[1;33m=\u001b[0m \u001b[0mpolarity_test\u001b[0m\u001b[1;33m[\u001b[0m\u001b[1;34m'Polarity Rating'\u001b[0m\u001b[1;33m]\u001b[0m\u001b[1;33m.\u001b[0m\u001b[0mrolling\u001b[0m\u001b[1;33m(\u001b[0m\u001b[0mwindow\u001b[0m\u001b[1;33m=\u001b[0m\u001b[1;36m20\u001b[0m\u001b[1;33m)\u001b[0m\u001b[1;33m.\u001b[0m\u001b[0mmean\u001b[0m\u001b[1;33m(\u001b[0m\u001b[1;33m)\u001b[0m\u001b[1;33m\u001b[0m\u001b[1;33m\u001b[0m\u001b[0m\n\u001b[0m\u001b[0;32m      2\u001b[0m \u001b[0mend\u001b[0m \u001b[1;33m=\u001b[0m \u001b[0mpd\u001b[0m\u001b[1;33m.\u001b[0m\u001b[0mto_timedelta\u001b[0m\u001b[1;33m(\u001b[0m\u001b[1;33m[\u001b[0m\u001b[0mstr\u001b[0m\u001b[1;33m(\u001b[0m\u001b[0mpolarity_test\u001b[0m\u001b[1;33m[\u001b[0m\u001b[1;34m'time'\u001b[0m\u001b[1;33m]\u001b[0m\u001b[1;33m.\u001b[0m\u001b[0miloc\u001b[0m\u001b[1;33m[\u001b[0m\u001b[1;36m0\u001b[0m\u001b[1;33m]\u001b[0m\u001b[1;33m)\u001b[0m\u001b[1;33m]\u001b[0m\u001b[1;33m)\u001b[0m\u001b[1;33m\u001b[0m\u001b[1;33m\u001b[0m\u001b[0m\n\u001b[0;32m      3\u001b[0m \u001b[0mstart\u001b[0m \u001b[1;33m=\u001b[0m \u001b[0mpd\u001b[0m\u001b[1;33m.\u001b[0m\u001b[0mto_timedelta\u001b[0m\u001b[1;33m(\u001b[0m\u001b[1;33m[\u001b[0m\u001b[0mstr\u001b[0m\u001b[1;33m(\u001b[0m\u001b[0mpolarity_test\u001b[0m\u001b[1;33m[\u001b[0m\u001b[1;34m'time'\u001b[0m\u001b[1;33m]\u001b[0m\u001b[1;33m.\u001b[0m\u001b[0miloc\u001b[0m\u001b[1;33m[\u001b[0m\u001b[1;33m-\u001b[0m\u001b[1;36m1\u001b[0m\u001b[1;33m]\u001b[0m\u001b[1;33m)\u001b[0m\u001b[1;33m]\u001b[0m\u001b[1;33m)\u001b[0m\u001b[1;33m\u001b[0m\u001b[1;33m\u001b[0m\u001b[0m\n\u001b[0;32m      4\u001b[0m \u001b[0mrecent_tweets_duration\u001b[0m \u001b[1;33m=\u001b[0m \u001b[0mstr\u001b[0m\u001b[1;33m(\u001b[0m\u001b[1;33m(\u001b[0m\u001b[0mend\u001b[0m\u001b[1;33m-\u001b[0m\u001b[0mstart\u001b[0m\u001b[1;33m)\u001b[0m\u001b[1;33m[\u001b[0m\u001b[1;36m0\u001b[0m\u001b[1;33m]\u001b[0m\u001b[1;33m)\u001b[0m\u001b[1;33m\u001b[0m\u001b[1;33m\u001b[0m\u001b[0m\n\u001b[0;32m      5\u001b[0m \u001b[0mroll\u001b[0m \u001b[1;33m=\u001b[0m \u001b[0mrolling_poll\u001b[0m\u001b[1;33m.\u001b[0m\u001b[0mhvplot\u001b[0m\u001b[1;33m(\u001b[0m\u001b[0mx\u001b[0m\u001b[1;33m=\u001b[0m\u001b[1;34m'time'\u001b[0m\u001b[1;33m,\u001b[0m\u001b[0my\u001b[0m\u001b[1;33m=\u001b[0m\u001b[1;34m'Polarity Rating'\u001b[0m\u001b[1;33m,\u001b[0m\u001b[0mrot\u001b[0m\u001b[1;33m=\u001b[0m\u001b[1;36m90\u001b[0m\u001b[1;33m,\u001b[0m \u001b[0mhover_cols\u001b[0m \u001b[1;33m=\u001b[0m \u001b[1;33m[\u001b[0m\u001b[1;34m'twitter_user'\u001b[0m\u001b[1;33m,\u001b[0m\u001b[1;34m'text'\u001b[0m\u001b[1;33m]\u001b[0m\u001b[1;33m)\u001b[0m\u001b[1;33m\u001b[0m\u001b[1;33m\u001b[0m\u001b[0m\n",
      "\u001b[1;31mNameError\u001b[0m: name 'polarity_test' is not defined"
     ]
    }
   ],
   "source": [
    "rolling_poll = polarity_test['Polarity Rating'].rolling(window=20).mean()\n",
    "end = pd.to_timedelta([str(polarity_test['time'].iloc[0])])\n",
    "start = pd.to_timedelta([str(polarity_test['time'].iloc[-1])])\n",
    "recent_tweets_duration = str((end-start)[0])\n",
    "roll = rolling_poll.hvplot(x='time',y='Polarity Rating',rot=90, hover_cols = ['twitter_user','text'])\n",
    "pol = polarity_test.hvplot(x='time',y='Polarity Rating',rot=90, hover_cols = ['twitter_user','text'],xticks=6,xlabel=f\"Duration length = {recent_tweets_duration}\")\n",
    "polarity_test.mean()\n",
    "pol"
   ]
  },
  {
   "cell_type": "code",
   "execution_count": 12,
   "metadata": {},
   "outputs": [],
   "source": [
    "def tweet_search_free(string_query, number_tweets = 100):\n",
    "    for tweets in tweepy.Cursor(api.search, q=string_query).items(number_tweets):\n",
    "        screen_name = tweets.user.screen_name\n",
    "        contents = \"\"\n",
    "        #if tweets.truncated == True:\n",
    "        #    contents = tweets.full_text\n",
    "        #else:\n",
    "        contents = tweets.text\n",
    "        polarity = sentiment_reader(contents)\n",
    "        \n",
    "        category = category_key(contents,dict_search_terms)\n",
    "        yield [screen_name, category, str(tweets.created_at), str(tweets.coordinates), contents, tweets.id, tweets.source,\"x\",\n",
    "               \"x\", tweets.retweet_count, tweets.favorite_count, polarity, (polarity * int(tweets.retweet_count))]"
   ]
  },
  {
   "cell_type": "code",
   "execution_count": 13,
   "metadata": {},
   "outputs": [],
   "source": [
    "#Function for generating a list of categories from the presence of keywords in text.\n",
    "def category_key(text_block,dict_keywords):\n",
    "    category_list = []\n",
    "    output = \" \"\n",
    "    contents = text_block.lower()\n",
    "    for key in dict_keywords:\n",
    "        for keyword in dict_keywords[key]:\n",
    "            if keyword in contents:\n",
    "                category_list.append(key)\n",
    "    #return output.join(category_list)\n",
    "    return category_list"
   ]
  },
  {
   "cell_type": "code",
   "execution_count": 14,
   "metadata": {},
   "outputs": [],
   "source": [
    "#Function for generating sentiment values using textblob library.\n",
    "def sentiment_reader(text_block):\n",
    "    sentiment_text = TextBlob(text_block)\n",
    "    return sentiment_text.polarity"
   ]
  },
  {
   "cell_type": "code",
   "execution_count": 15,
   "metadata": {},
   "outputs": [],
   "source": [
    "#Function for fixing duplicate values in the category column.\n",
    "def no_dupes(string):\n",
    "    string =  str(string)\n",
    "    if string[-1] != \" \":\n",
    "        string = string + \" \"\n",
    "    wordlist = []\n",
    "    output = \"\"\n",
    "    word = \"\"\n",
    "    for letter in string:\n",
    "        if letter != \" \":\n",
    "            word = word + letter\n",
    "        elif word not in wordlist:\n",
    "            wordlist.append(word)\n",
    "            output = output + word + \" \"\n",
    "            word = \"\"\n",
    "        else:\n",
    "            word = \"\"\n",
    "    return output"
   ]
  },
  {
   "cell_type": "code",
   "execution_count": 16,
   "metadata": {},
   "outputs": [],
   "source": [
    "#Function for creating search query string for tweepy.Cursor(api.search). Max query length is 128 for sandbox env.\n",
    "#In it's current form it supports a bunch of keywords joined by OR, grouped by (), AND from a single tweeter.\n",
    "def query_creator(list_keywords, twitter_user = \"!\", mood = \"!\"):\n",
    "    query = \"(\"\n",
    "    for keyword in (list_keywords):\n",
    "        query += keyword\n",
    "        if keyword != list_keywords[-1]:\n",
    "            query += \" OR \"\n",
    "        else:\n",
    "            query += \")\"\n",
    "    if twitter_user != \"!\":\n",
    "        query += \" from:\" + twitter_user\n",
    "    return query"
   ]
  },
  {
   "cell_type": "code",
   "execution_count": 17,
   "metadata": {},
   "outputs": [],
   "source": [
    "#Function for appending search results to the tweet df.\n",
    "def tweet_dataframe_append(rows, target_dataframe):\n",
    "    for row in rows:\n",
    "        series_result = pd.Series(row, index=target_dataframe.columns)\n",
    "        target_dataframe = target_dataframe.append(series_result, ignore_index=True)\n",
    "        return target_dataframe"
   ]
  },
  {
   "cell_type": "markdown",
   "metadata": {},
   "source": [
    "# Micheal's add in"
   ]
  },
  {
   "cell_type": "code",
   "execution_count": 18,
   "metadata": {},
   "outputs": [],
   "source": [
    "elon_data = Path('../data/clean_data/clean_elon_data.csv')\n",
    "elon_data_df = pd.read_csv(elon_data, index_col='date')"
   ]
  },
  {
   "cell_type": "code",
   "execution_count": 19,
   "metadata": {},
   "outputs": [
    {
     "data": {},
     "metadata": {},
     "output_type": "display_data"
    },
    {
     "data": {
      "application/vnd.holoviews_exec.v0+json": "",
      "text/html": [
       "<div id='1002'>\n",
       "\n",
       "\n",
       "\n",
       "\n",
       "\n",
       "  <div class=\"bk-root\" id=\"6289eeb6-0536-4180-8138-760c9d9cb733\" data-root-id=\"1002\"></div>\n",
       "</div>\n",
       "<script type=\"application/javascript\">(function(root) {\n",
       "  function embed_document(root) {\n",
       "  var docs_json = {\"c93b3822-219f-4cae-b1f2-0e3b76b89492\":{\"roots\":{\"references\":[{\"attributes\":{},\"id\":\"1014\",\"type\":\"LinearScale\"},{\"attributes\":{\"factors\":[\"BTC_volume_change\",\"ETH_volume_change\",\"LTC_volume_change\"],\"palette\":[\"#1f77b3\",\"#ff7e0e\",\"#2ba02b\"]},\"id\":\"1036\",\"type\":\"CategoricalColorMapper\"},{\"attributes\":{},\"id\":\"1020\",\"type\":\"BasicTicker\"},{\"attributes\":{\"axis\":{\"id\":\"1016\"},\"grid_line_color\":null,\"ticker\":null},\"id\":\"1018\",\"type\":\"Grid\"},{\"attributes\":{},\"id\":\"1017\",\"type\":\"CategoricalTicker\"},{\"attributes\":{\"axis_label\":\"date, Variable\",\"bounds\":\"auto\",\"formatter\":{\"id\":\"1045\"},\"major_label_orientation\":1.5707963267948966,\"ticker\":{\"id\":\"1017\"}},\"id\":\"1016\",\"type\":\"CategoricalAxis\"},{\"attributes\":{\"children\":[{\"id\":\"1113\"},{\"id\":\"1111\"}]},\"id\":\"1114\",\"type\":\"Column\"},{\"attributes\":{\"axis_label\":\"\",\"bounds\":\"auto\",\"formatter\":{\"id\":\"1047\"},\"major_label_orientation\":\"horizontal\",\"ticker\":{\"id\":\"1020\"}},\"id\":\"1019\",\"type\":\"LinearAxis\"},{\"attributes\":{\"bottom_units\":\"screen\",\"fill_alpha\":0.5,\"fill_color\":\"lightgrey\",\"left_units\":\"screen\",\"level\":\"overlay\",\"line_alpha\":1.0,\"line_color\":\"black\",\"line_dash\":[4,4],\"line_width\":2,\"render_mode\":\"css\",\"right_units\":\"screen\",\"top_units\":\"screen\"},\"id\":\"1073\",\"type\":\"BoxAnnotation\"},{\"attributes\":{\"active_drag\":\"auto\",\"active_inspect\":\"auto\",\"active_multi\":null,\"active_scroll\":\"auto\",\"active_tap\":\"auto\",\"tools\":[{\"id\":\"1051\"},{\"id\":\"1068\"},{\"id\":\"1069\"},{\"id\":\"1070\"},{\"id\":\"1071\"},{\"id\":\"1072\"}]},\"id\":\"1074\",\"type\":\"Toolbar\"},{\"attributes\":{\"axis\":{\"id\":\"1019\"},\"dimension\":1,\"grid_line_color\":null,\"ticker\":null},\"id\":\"1022\",\"type\":\"Grid\"},{\"attributes\":{},\"id\":\"1082\",\"type\":\"Selection\"},{\"attributes\":{},\"id\":\"1045\",\"type\":\"CategoricalTickFormatter\"},{\"attributes\":{\"children\":[[{\"id\":\"1007\"},0,0],[{\"id\":\"1052\"},0,1]]},\"id\":\"1111\",\"type\":\"GridBox\"},{\"attributes\":{},\"id\":\"1059\",\"type\":\"LinearScale\"},{\"attributes\":{\"fill_alpha\":{\"value\":0.1},\"fill_color\":{\"value\":\"#1f77b3\"},\"line_alpha\":{\"value\":0.1},\"top\":{\"field\":\"Polarity_Rating\"},\"width\":{\"value\":0.8},\"x\":{\"field\":\"date\"}},\"id\":\"1085\",\"type\":\"VBar\"},{\"attributes\":{},\"id\":\"1023\",\"type\":\"SaveTool\"},{\"attributes\":{},\"id\":\"1024\",\"type\":\"PanTool\"},{\"attributes\":{},\"id\":\"1025\",\"type\":\"WheelZoomTool\"},{\"attributes\":{\"overlay\":{\"id\":\"1028\"}},\"id\":\"1026\",\"type\":\"BoxZoomTool\"},{\"attributes\":{},\"id\":\"1027\",\"type\":\"ResetTool\"},{\"attributes\":{\"margin\":[5,5,5,5],\"name\":\"HSpacer01642\",\"sizing_mode\":\"stretch_width\"},\"id\":\"1243\",\"type\":\"Spacer\"},{\"attributes\":{\"data\":{\"Polarity_Rating\":{\"__ndarray__\":\"AAAAAAAAyL+amZmZmZm5PwAAAAAAAOA/mpmZmZmZyT/NzMzMzMy8PwAAAAAAAOA/\",\"dtype\":\"float64\",\"shape\":[6]},\"date\":[\"2017-11-28\",\"2019-02-21\",\"2020-01-10\",\"2020-05-01\",\"2020-05-15\",\"2020-12-20\"]},\"selected\":{\"id\":\"1082\"},\"selection_policy\":{\"id\":\"1109\"}},\"id\":\"1081\",\"type\":\"ColumnDataSource\"},{\"attributes\":{\"end\":0.56875,\"reset_end\":0.56875,\"reset_start\":-0.25625,\"start\":-0.25625,\"tags\":[[[\"Polarity Rating\",\"Polarity Rating\",null]]]},\"id\":\"1050\",\"type\":\"Range1d\"},{\"attributes\":{},\"id\":\"1057\",\"type\":\"CategoricalScale\"},{\"attributes\":{\"bottom_units\":\"screen\",\"fill_alpha\":0.5,\"fill_color\":\"lightgrey\",\"left_units\":\"screen\",\"level\":\"overlay\",\"line_alpha\":1.0,\"line_color\":\"black\",\"line_dash\":[4,4],\"line_width\":2,\"render_mode\":\"css\",\"right_units\":\"screen\",\"top_units\":\"screen\"},\"id\":\"1028\",\"type\":\"BoxAnnotation\"},{\"attributes\":{},\"id\":\"1100\",\"type\":\"UnionRenderers\"},{\"attributes\":{},\"id\":\"1069\",\"type\":\"PanTool\"},{\"attributes\":{\"end\":1.8330000000000002,\"reset_end\":1.8330000000000002,\"reset_start\":-0.963,\"start\":-0.963,\"tags\":[[[\"value\",\"value\",null]]]},\"id\":\"1005\",\"type\":\"Range1d\"},{\"attributes\":{\"fill_color\":{\"value\":\"#1f77b3\"},\"top\":{\"field\":\"Polarity_Rating\"},\"width\":{\"value\":0.8},\"x\":{\"field\":\"date\"}},\"id\":\"1084\",\"type\":\"VBar\"},{\"attributes\":{},\"id\":\"1070\",\"type\":\"WheelZoomTool\"},{\"attributes\":{\"overlay\":{\"id\":\"1073\"}},\"id\":\"1071\",\"type\":\"BoxZoomTool\"},{\"attributes\":{},\"id\":\"1072\",\"type\":\"ResetTool\"},{\"attributes\":{},\"id\":\"1062\",\"type\":\"CategoricalTicker\"},{\"attributes\":{\"axis\":{\"id\":\"1061\"},\"grid_line_color\":null,\"ticker\":null},\"id\":\"1063\",\"type\":\"Grid\"},{\"attributes\":{\"axis_label\":\"Polarity Rating\",\"bounds\":\"auto\",\"formatter\":{\"id\":\"1091\"},\"major_label_orientation\":\"horizontal\",\"ticker\":{\"id\":\"1065\"}},\"id\":\"1064\",\"type\":\"LinearAxis\"},{\"attributes\":{\"axis\":{\"id\":\"1064\"},\"dimension\":1,\"grid_line_color\":null,\"ticker\":null},\"id\":\"1067\",\"type\":\"Grid\"},{\"attributes\":{},\"id\":\"1068\",\"type\":\"SaveTool\"},{\"attributes\":{\"margin\":[5,5,5,5],\"name\":\"HSpacer01641\",\"sizing_mode\":\"stretch_width\"},\"id\":\"1003\",\"type\":\"Spacer\"},{\"attributes\":{\"data_source\":{\"id\":\"1037\"},\"glyph\":{\"id\":\"1040\"},\"hover_glyph\":null,\"muted_glyph\":{\"id\":\"1042\"},\"nonselection_glyph\":{\"id\":\"1041\"},\"selection_glyph\":null,\"view\":{\"id\":\"1044\"}},\"id\":\"1043\",\"type\":\"GlyphRenderer\"},{\"attributes\":{\"fill_alpha\":{\"value\":0.2},\"fill_color\":{\"value\":\"#1f77b3\"},\"line_alpha\":{\"value\":0.2},\"top\":{\"field\":\"Polarity_Rating\"},\"width\":{\"value\":0.8},\"x\":{\"field\":\"date\"}},\"id\":\"1086\",\"type\":\"VBar\"},{\"attributes\":{},\"id\":\"1065\",\"type\":\"BasicTicker\"},{\"attributes\":{\"active_drag\":\"auto\",\"active_inspect\":\"auto\",\"active_multi\":null,\"active_scroll\":\"auto\",\"active_tap\":\"auto\",\"tools\":[{\"id\":\"1006\"},{\"id\":\"1023\"},{\"id\":\"1024\"},{\"id\":\"1025\"},{\"id\":\"1026\"},{\"id\":\"1027\"}]},\"id\":\"1029\",\"type\":\"Toolbar\"},{\"attributes\":{\"text\":\"\",\"text_color\":{\"value\":\"black\"},\"text_font_size\":{\"value\":\"12pt\"}},\"id\":\"1008\",\"type\":\"Title\"},{\"attributes\":{\"data_source\":{\"id\":\"1081\"},\"glyph\":{\"id\":\"1084\"},\"hover_glyph\":null,\"muted_glyph\":{\"id\":\"1086\"},\"nonselection_glyph\":{\"id\":\"1085\"},\"selection_glyph\":null,\"view\":{\"id\":\"1088\"}},\"id\":\"1087\",\"type\":\"GlyphRenderer\"},{\"attributes\":{\"axis_label\":\"date\",\"bounds\":\"auto\",\"formatter\":{\"id\":\"1089\"},\"major_label_orientation\":1.5707963267948966,\"ticker\":{\"id\":\"1062\"}},\"id\":\"1061\",\"type\":\"CategoricalAxis\"},{\"attributes\":{\"children\":[{\"id\":\"1003\"},{\"id\":\"1114\"},{\"id\":\"1243\"}],\"margin\":[0,0,0,0],\"name\":\"Row01637\",\"tags\":[\"embedded\"]},\"id\":\"1002\",\"type\":\"Row\"},{\"attributes\":{\"callback\":null,\"renderers\":[{\"id\":\"1087\"}],\"tags\":[\"hv_created\"],\"tooltips\":[[\"date\",\"@{date}\"],[\"Polarity Rating\",\"@{Polarity_Rating}\"]]},\"id\":\"1051\",\"type\":\"HoverTool\"},{\"attributes\":{\"fill_alpha\":{\"value\":0.1},\"fill_color\":{\"field\":\"Variable\",\"transform\":{\"id\":\"1036\"}},\"line_alpha\":{\"value\":0.1},\"top\":{\"field\":\"value\"},\"width\":{\"value\":0.8},\"x\":{\"field\":\"xoffsets\"}},\"id\":\"1041\",\"type\":\"VBar\"},{\"attributes\":{\"fill_color\":{\"field\":\"Variable\",\"transform\":{\"id\":\"1036\"}},\"top\":{\"field\":\"value\"},\"width\":{\"value\":0.8},\"x\":{\"field\":\"xoffsets\"}},\"id\":\"1040\",\"type\":\"VBar\"},{\"attributes\":{\"fill_alpha\":{\"value\":0.2},\"fill_color\":{\"field\":\"Variable\",\"transform\":{\"id\":\"1036\"}},\"line_alpha\":{\"value\":0.2},\"top\":{\"field\":\"value\"},\"width\":{\"value\":0.8},\"x\":{\"field\":\"xoffsets\"}},\"id\":\"1042\",\"type\":\"VBar\"},{\"attributes\":{\"data\":{\"Variable\":[\"BTC_volume_change\",\"BTC_volume_change\",\"BTC_volume_change\",\"BTC_volume_change\",\"BTC_volume_change\",\"BTC_volume_change\",\"ETH_volume_change\",\"ETH_volume_change\",\"ETH_volume_change\",\"ETH_volume_change\",\"ETH_volume_change\",\"ETH_volume_change\",\"LTC_volume_change\",\"LTC_volume_change\",\"LTC_volume_change\",\"LTC_volume_change\",\"LTC_volume_change\",\"LTC_volume_change\"],\"date\":[\"2017-11-28\",\"2019-02-21\",\"2020-01-10\",\"2020-05-01\",\"2020-05-15\",\"2020-12-20\",\"2017-11-28\",\"2019-02-21\",\"2020-01-10\",\"2020-05-01\",\"2020-05-15\",\"2020-12-20\",\"2017-11-28\",\"2019-02-21\",\"2020-01-10\",\"2020-05-01\",\"2020-05-15\",\"2020-12-20\"],\"value\":{\"__ndarray__\":\"XI/C9Shc578zMzMzMzPDP/YoXI/C9eg/9ihcj8L18D9xPQrXo3D1P+F6FK5H4dq/zczMzMzM5L9SuB6F61HYP5qZmZmZmfk/9ihcj8L16D97FK5H4XrkP1K4HoXrUdi/cT0K16Nw5b+F61G4HoXbPzMzMzMzM9M/exSuR+F6hL9SuB6F61HoP7gehetRuJ4/\",\"dtype\":\"float64\",\"shape\":[18]},\"xoffsets\":[[\"2017-11-28\",\"BTC_volume_change\"],[\"2019-02-21\",\"BTC_volume_change\"],[\"2020-01-10\",\"BTC_volume_change\"],[\"2020-05-01\",\"BTC_volume_change\"],[\"2020-05-15\",\"BTC_volume_change\"],[\"2020-12-20\",\"BTC_volume_change\"],[\"2017-11-28\",\"ETH_volume_change\"],[\"2019-02-21\",\"ETH_volume_change\"],[\"2020-01-10\",\"ETH_volume_change\"],[\"2020-05-01\",\"ETH_volume_change\"],[\"2020-05-15\",\"ETH_volume_change\"],[\"2020-12-20\",\"ETH_volume_change\"],[\"2017-11-28\",\"LTC_volume_change\"],[\"2019-02-21\",\"LTC_volume_change\"],[\"2020-01-10\",\"LTC_volume_change\"],[\"2020-05-01\",\"LTC_volume_change\"],[\"2020-05-15\",\"LTC_volume_change\"],[\"2020-12-20\",\"LTC_volume_change\"]]},\"selected\":{\"id\":\"1038\"},\"selection_policy\":{\"id\":\"1100\"}},\"id\":\"1037\",\"type\":\"ColumnDataSource\"},{\"attributes\":{},\"id\":\"1089\",\"type\":\"CategoricalTickFormatter\"},{\"attributes\":{},\"id\":\"1038\",\"type\":\"Selection\"},{\"attributes\":{\"factors\":[[\"2017-11-28\",\"BTC_volume_change\"],[\"2017-11-28\",\"ETH_volume_change\"],[\"2017-11-28\",\"LTC_volume_change\"],[\"2019-02-21\",\"BTC_volume_change\"],[\"2019-02-21\",\"ETH_volume_change\"],[\"2019-02-21\",\"LTC_volume_change\"],[\"2020-01-10\",\"BTC_volume_change\"],[\"2020-01-10\",\"ETH_volume_change\"],[\"2020-01-10\",\"LTC_volume_change\"],[\"2020-05-01\",\"BTC_volume_change\"],[\"2020-05-01\",\"ETH_volume_change\"],[\"2020-05-01\",\"LTC_volume_change\"],[\"2020-05-15\",\"BTC_volume_change\"],[\"2020-05-15\",\"ETH_volume_change\"],[\"2020-05-15\",\"LTC_volume_change\"],[\"2020-12-20\",\"BTC_volume_change\"],[\"2020-12-20\",\"ETH_volume_change\"],[\"2020-12-20\",\"LTC_volume_change\"]],\"tags\":[[[\"date\",\"date\",null],[\"Variable\",\"Variable\",null]]]},\"id\":\"1004\",\"type\":\"FactorRange\"},{\"attributes\":{\"text\":\"\",\"text_color\":{\"value\":\"black\"},\"text_font_size\":{\"value\":\"12pt\"}},\"id\":\"1053\",\"type\":\"Title\"},{\"attributes\":{\"source\":{\"id\":\"1081\"}},\"id\":\"1088\",\"type\":\"CDSView\"},{\"attributes\":{\"below\":[{\"id\":\"1016\"}],\"center\":[{\"id\":\"1018\"},{\"id\":\"1022\"}],\"left\":[{\"id\":\"1019\"}],\"margin\":null,\"min_border_bottom\":10,\"min_border_left\":10,\"min_border_right\":10,\"min_border_top\":10,\"plot_height\":300,\"plot_width\":700,\"renderers\":[{\"id\":\"1043\"}],\"sizing_mode\":\"fixed\",\"title\":{\"id\":\"1008\"},\"toolbar\":{\"id\":\"1029\"},\"toolbar_location\":null,\"x_range\":{\"id\":\"1004\"},\"x_scale\":{\"id\":\"1012\"},\"y_range\":{\"id\":\"1005\"},\"y_scale\":{\"id\":\"1014\"}},\"id\":\"1007\",\"subtype\":\"Figure\",\"type\":\"Plot\"},{\"attributes\":{\"below\":[{\"id\":\"1061\"}],\"center\":[{\"id\":\"1063\"},{\"id\":\"1067\"}],\"left\":[{\"id\":\"1064\"}],\"margin\":null,\"min_border_bottom\":10,\"min_border_left\":10,\"min_border_right\":10,\"min_border_top\":10,\"plot_height\":300,\"plot_width\":700,\"renderers\":[{\"id\":\"1087\"}],\"sizing_mode\":\"fixed\",\"title\":{\"id\":\"1053\"},\"toolbar\":{\"id\":\"1074\"},\"toolbar_location\":null,\"x_range\":{\"id\":\"1049\"},\"x_scale\":{\"id\":\"1057\"},\"y_range\":{\"id\":\"1050\"},\"y_scale\":{\"id\":\"1059\"}},\"id\":\"1052\",\"subtype\":\"Figure\",\"type\":\"Plot\"},{\"attributes\":{},\"id\":\"1012\",\"type\":\"CategoricalScale\"},{\"attributes\":{},\"id\":\"1091\",\"type\":\"BasicTickFormatter\"},{\"attributes\":{\"callback\":null,\"renderers\":[{\"id\":\"1043\"}],\"tags\":[\"hv_created\"],\"tooltips\":[[\"date\",\"@{date}\"],[\"Variable\",\"@{Variable}\"],[\"value\",\"@{value}\"]]},\"id\":\"1006\",\"type\":\"HoverTool\"},{\"attributes\":{\"factors\":[\"2017-11-28\",\"2019-02-21\",\"2020-01-10\",\"2020-05-01\",\"2020-05-15\",\"2020-12-20\"],\"tags\":[[[\"date\",\"date\",null]]]},\"id\":\"1049\",\"type\":\"FactorRange\"},{\"attributes\":{},\"id\":\"1109\",\"type\":\"UnionRenderers\"},{\"attributes\":{\"toolbar\":{\"id\":\"1112\"},\"toolbar_location\":\"above\"},\"id\":\"1113\",\"type\":\"ToolbarBox\"},{\"attributes\":{\"source\":{\"id\":\"1037\"}},\"id\":\"1044\",\"type\":\"CDSView\"},{\"attributes\":{},\"id\":\"1047\",\"type\":\"BasicTickFormatter\"},{\"attributes\":{\"toolbars\":[{\"id\":\"1029\"},{\"id\":\"1074\"}],\"tools\":[{\"id\":\"1006\"},{\"id\":\"1023\"},{\"id\":\"1024\"},{\"id\":\"1025\"},{\"id\":\"1026\"},{\"id\":\"1027\"},{\"id\":\"1051\"},{\"id\":\"1068\"},{\"id\":\"1069\"},{\"id\":\"1070\"},{\"id\":\"1071\"},{\"id\":\"1072\"}]},\"id\":\"1112\",\"type\":\"ProxyToolbar\"}],\"root_ids\":[\"1002\"]},\"title\":\"Bokeh Application\",\"version\":\"2.0.2\"}};\n",
       "  var render_items = [{\"docid\":\"c93b3822-219f-4cae-b1f2-0e3b76b89492\",\"root_ids\":[\"1002\"],\"roots\":{\"1002\":\"6289eeb6-0536-4180-8138-760c9d9cb733\"}}];\n",
       "  root.Bokeh.embed.embed_items_notebook(docs_json, render_items);\n",
       "  }\n",
       "if (root.Bokeh !== undefined) {\n",
       "    embed_document(root);\n",
       "  } else {\n",
       "    var attempts = 0;\n",
       "    var timer = setInterval(function(root) {\n",
       "      if (root.Bokeh !== undefined) {\n",
       "        clearInterval(timer);\n",
       "        embed_document(root);\n",
       "      } else if (document.readyState == \"complete\") {\n",
       "        attempts++;\n",
       "        if (attempts > 100) {\n",
       "          clearInterval(timer);\n",
       "          console.log(\"Bokeh: ERROR: Unable to run BokehJS code because BokehJS library is missing\");\n",
       "        }\n",
       "      }\n",
       "    }, 10, root)\n",
       "  }\n",
       "})(window);</script>"
      ],
      "text/plain": [
       ":Layout\n",
       "   .Bars.I  :Bars   [date,Variable]   (value)\n",
       "   .Bars.II :Bars   [date]   (Polarity Rating)"
      ]
     },
     "execution_count": 19,
     "metadata": {
      "application/vnd.holoviews_exec.v0+json": {
       "id": "1002"
      }
     },
     "output_type": "execute_result"
    }
   ],
   "source": [
    "def polarity_volume_elon():\n",
    "    return elon_data_df.hvplot.bar(x='date', y=['BTC_volume_change', 'ETH_volume_change', 'LTC_volume_change'], rot=90) + elon_data_df.hvplot.bar(x='date', y='Polarity Rating', rot=90)\n",
    "polarity_volume_elon()"
   ]
  },
  {
   "cell_type": "code",
   "execution_count": 20,
   "metadata": {},
   "outputs": [
    {
     "data": {},
     "metadata": {},
     "output_type": "display_data"
    },
    {
     "data": {
      "application/vnd.holoviews_exec.v0+json": "",
      "text/html": [
       "<div id='1325'>\n",
       "\n",
       "\n",
       "\n",
       "\n",
       "\n",
       "  <div class=\"bk-root\" id=\"03f0a354-efc4-4688-b72b-45c0f5e76e40\" data-root-id=\"1325\"></div>\n",
       "</div>\n",
       "<script type=\"application/javascript\">(function(root) {\n",
       "  function embed_document(root) {\n",
       "  var docs_json = {\"81e4a666-bb49-47d4-b826-7a1f92cbc751\":{\"roots\":{\"references\":[{\"attributes\":{},\"id\":\"1350\",\"type\":\"WheelZoomTool\"},{\"attributes\":{\"fill_alpha\":0.5,\"fill_color\":\"#1f77b3\",\"line_alpha\":0.5,\"x\":{\"field\":\"x\"},\"y\":{\"field\":\"y\"}},\"id\":\"1390\",\"type\":\"Patch\"},{\"attributes\":{\"data_source\":{\"id\":\"1386\"},\"glyph\":{\"id\":\"1389\"},\"hover_glyph\":null,\"muted_glyph\":{\"id\":\"1391\"},\"nonselection_glyph\":{\"id\":\"1390\"},\"selection_glyph\":null,\"view\":{\"id\":\"1393\"}},\"id\":\"1392\",\"type\":\"GlyphRenderer\"},{\"attributes\":{\"overlay\":{\"id\":\"1353\"}},\"id\":\"1351\",\"type\":\"BoxZoomTool\"},{\"attributes\":{},\"id\":\"1352\",\"type\":\"ResetTool\"},{\"attributes\":{},\"id\":\"1349\",\"type\":\"PanTool\"},{\"attributes\":{\"fill_alpha\":0.2,\"fill_color\":\"#1f77b3\",\"line_alpha\":0.2,\"x\":{\"field\":\"x\"},\"y\":{\"field\":\"y\"}},\"id\":\"1391\",\"type\":\"Patch\"},{\"attributes\":{\"source\":{\"id\":\"1386\"}},\"id\":\"1393\",\"type\":\"CDSView\"},{\"attributes\":{\"margin\":[5,5,5,5],\"name\":\"HSpacer02260\",\"sizing_mode\":\"stretch_width\"},\"id\":\"1326\",\"type\":\"Spacer\"},{\"attributes\":{},\"id\":\"1387\",\"type\":\"Selection\"},{\"attributes\":{\"children\":[{\"id\":\"1326\"},{\"id\":\"1332\"},{\"id\":\"1482\"}],\"margin\":[0,0,0,0],\"name\":\"Row02256\",\"tags\":[\"embedded\"]},\"id\":\"1325\",\"type\":\"Row\"},{\"attributes\":{\"end\":133794.75,\"reset_end\":133794.75,\"reset_start\":-12914.25,\"start\":-12914.25,\"tags\":[[[\"Popularity Rating\",\"Popularity Rating\",null]]]},\"id\":\"1328\",\"type\":\"Range1d\"},{\"attributes\":{},\"id\":\"1379\",\"type\":\"Selection\"},{\"attributes\":{\"data\":{\"BTC_rolling_volume\":{\"__ndarray__\":\"AAAAAGhw5UBcj8L1KMnBQPYoXI+iNcBAMzMzM0MQ0ECuR+F6VB3QQMP1KFzPTNNA\",\"dtype\":\"float64\",\"shape\":[6]},\"date\":[\"2017-11-28\",\"2019-02-21\",\"2020-01-10\",\"2020-05-01\",\"2020-05-15\",\"2020-12-20\"]},\"selected\":{\"id\":\"1379\"},\"selection_policy\":{\"id\":\"1402\"}},\"id\":\"1378\",\"type\":\"ColumnDataSource\"},{\"attributes\":{\"active_drag\":\"auto\",\"active_inspect\":\"auto\",\"active_multi\":null,\"active_scroll\":\"auto\",\"active_tap\":\"auto\",\"tools\":[{\"id\":\"1329\"},{\"id\":\"1330\"},{\"id\":\"1331\"},{\"id\":\"1348\"},{\"id\":\"1349\"},{\"id\":\"1350\"},{\"id\":\"1351\"},{\"id\":\"1352\"}]},\"id\":\"1354\",\"type\":\"Toolbar\"},{\"attributes\":{},\"id\":\"1400\",\"type\":\"UnionRenderers\"},{\"attributes\":{\"data_source\":{\"id\":\"1378\"},\"glyph\":{\"id\":\"1381\"},\"hover_glyph\":null,\"muted_glyph\":{\"id\":\"1383\"},\"nonselection_glyph\":{\"id\":\"1382\"},\"selection_glyph\":null,\"view\":{\"id\":\"1385\"}},\"id\":\"1384\",\"type\":\"GlyphRenderer\"},{\"attributes\":{\"fill_alpha\":0.5,\"fill_color\":\"#1f77b3\",\"line_alpha\":0.5,\"x\":{\"field\":\"x\"},\"y\":{\"field\":\"y\"}},\"id\":\"1389\",\"type\":\"Patch\"},{\"attributes\":{\"source\":{\"id\":\"1378\"}},\"id\":\"1385\",\"type\":\"CDSView\"},{\"attributes\":{\"line_alpha\":0.1,\"line_color\":\"#1f77b3\",\"line_width\":2,\"x\":{\"field\":\"date\"},\"y\":{\"field\":\"BTC_rolling_volume\"}},\"id\":\"1382\",\"type\":\"Line\"},{\"attributes\":{\"format\":\"%.0f\"},\"id\":\"1363\",\"type\":\"PrintfTickFormatter\"},{\"attributes\":{\"margin\":[5,5,5,5],\"name\":\"HSpacer02261\",\"sizing_mode\":\"stretch_width\"},\"id\":\"1482\",\"type\":\"Spacer\"},{\"attributes\":{\"text\":\"\",\"text_color\":{\"value\":\"black\"},\"text_font_size\":{\"value\":\"12pt\"}},\"id\":\"1333\",\"type\":\"Title\"},{\"attributes\":{\"data\":{\"x\":[\"2017-11-28\",\"2019-02-21\",\"2020-01-10\",\"2020-05-01\",\"2020-05-15\",\"2020-12-20\",\"2020-12-20\",\"2020-05-15\",\"2020-05-01\",\"2020-01-10\",\"2019-02-21\",\"2017-11-28\"],\"y\":{\"__ndarray__\":\"AAAAAAAAAAAAAAAAAAAAAAAAAAAAAAAAAAAAAAAAAAAAAAAAAAAAAAAAAAAAAAAA/Z/DfLU5zUC4zOmyPpfYQK6BrRIOJ9VA95LGaNk1ykAZAoBjdzPBQPlJtU8bhNJA\",\"dtype\":\"float64\",\"shape\":[12]}},\"selected\":{\"id\":\"1387\"},\"selection_policy\":{\"id\":\"1404\"}},\"id\":\"1386\",\"type\":\"ColumnDataSource\"},{\"attributes\":{\"fill_color\":{\"value\":\"#1f77b3\"},\"line_color\":{\"value\":\"#1f77b3\"},\"size\":{\"units\":\"screen\",\"value\":5.477225575051661},\"x\":{\"field\":\"date\"},\"y\":{\"field\":\"Popularity Rating\"}},\"id\":\"1373\",\"type\":\"Scatter\"},{\"attributes\":{},\"id\":\"1364\",\"type\":\"CategoricalTickFormatter\"},{\"attributes\":{\"bottom_units\":\"screen\",\"fill_alpha\":0.5,\"fill_color\":\"lightgrey\",\"left_units\":\"screen\",\"level\":\"overlay\",\"line_alpha\":1.0,\"line_color\":\"black\",\"line_dash\":[4,4],\"line_width\":2,\"render_mode\":\"css\",\"right_units\":\"screen\",\"top_units\":\"screen\"},\"id\":\"1353\",\"type\":\"BoxAnnotation\"},{\"attributes\":{\"callback\":null,\"renderers\":[{\"id\":\"1376\"}],\"tags\":[\"hv_created\"],\"tooltips\":[[\"date\",\"@{date}\"],[\"Popularity Rating\",\"@{Popularity_Rating}\"]]},\"id\":\"1329\",\"type\":\"HoverTool\"},{\"attributes\":{\"data_source\":{\"id\":\"1370\"},\"glyph\":{\"id\":\"1373\"},\"hover_glyph\":null,\"muted_glyph\":{\"id\":\"1375\"},\"nonselection_glyph\":{\"id\":\"1374\"},\"selection_glyph\":null,\"view\":{\"id\":\"1377\"}},\"id\":\"1376\",\"type\":\"GlyphRenderer\"},{\"attributes\":{\"callback\":null,\"renderers\":[{\"id\":\"1384\"}],\"tags\":[\"hv_created\"],\"tooltips\":[[\"date\",\"@{date}\"],[\"BTC_rolling_volume\",\"@{BTC_rolling_volume}\"]]},\"id\":\"1330\",\"type\":\"HoverTool\"},{\"attributes\":{\"line_alpha\":0.2,\"line_color\":\"#1f77b3\",\"line_width\":2,\"x\":{\"field\":\"date\"},\"y\":{\"field\":\"BTC_rolling_volume\"}},\"id\":\"1383\",\"type\":\"Line\"},{\"attributes\":{},\"id\":\"1402\",\"type\":\"UnionRenderers\"},{\"attributes\":{},\"id\":\"1345\",\"type\":\"BasicTicker\"},{\"attributes\":{\"below\":[{\"id\":\"1341\"}],\"center\":[{\"id\":\"1343\"},{\"id\":\"1347\"}],\"left\":[{\"id\":\"1344\"}],\"margin\":null,\"min_border_bottom\":10,\"min_border_left\":10,\"min_border_right\":10,\"min_border_top\":10,\"plot_height\":500,\"plot_width\":1000,\"renderers\":[{\"id\":\"1376\"},{\"id\":\"1384\"},{\"id\":\"1392\"}],\"sizing_mode\":\"fixed\",\"title\":{\"id\":\"1333\"},\"toolbar\":{\"id\":\"1354\"},\"x_range\":{\"id\":\"1327\"},\"x_scale\":{\"id\":\"1337\"},\"y_range\":{\"id\":\"1328\"},\"y_scale\":{\"id\":\"1339\"}},\"id\":\"1332\",\"subtype\":\"Figure\",\"type\":\"Plot\"},{\"attributes\":{\"axis_label\":\"date\",\"bounds\":\"auto\",\"formatter\":{\"id\":\"1364\"},\"major_label_orientation\":\"horizontal\",\"ticker\":{\"id\":\"1342\"}},\"id\":\"1341\",\"type\":\"CategoricalAxis\"},{\"attributes\":{\"factors\":[\"2017-11-28\",\"2019-02-21\",\"2020-01-10\",\"2020-05-01\",\"2020-05-15\",\"2020-12-20\"],\"tags\":[[[\"date\",\"date\",null]]]},\"id\":\"1327\",\"type\":\"FactorRange\"},{\"attributes\":{},\"id\":\"1342\",\"type\":\"CategoricalTicker\"},{\"attributes\":{\"axis_label\":\"Popularity Rating\",\"bounds\":\"auto\",\"formatter\":{\"id\":\"1363\"},\"major_label_orientation\":\"horizontal\",\"ticker\":{\"id\":\"1345\"}},\"id\":\"1344\",\"type\":\"LinearAxis\"},{\"attributes\":{\"axis\":{\"id\":\"1341\"},\"grid_line_color\":null,\"ticker\":null},\"id\":\"1343\",\"type\":\"Grid\"},{\"attributes\":{\"callback\":null,\"renderers\":[{\"id\":\"1392\"}],\"tags\":[\"hv_created\"],\"tooltips\":[[\"date\",\"@{date}\"],[\"BTC_volume\",\"@{BTC_volume}\"]]},\"id\":\"1331\",\"type\":\"HoverTool\"},{\"attributes\":{},\"id\":\"1339\",\"type\":\"LinearScale\"},{\"attributes\":{\"source\":{\"id\":\"1370\"}},\"id\":\"1377\",\"type\":\"CDSView\"},{\"attributes\":{\"fill_alpha\":{\"value\":0.1},\"fill_color\":{\"value\":\"#1f77b3\"},\"line_alpha\":{\"value\":0.1},\"line_color\":{\"value\":\"#1f77b3\"},\"size\":{\"units\":\"screen\",\"value\":5.477225575051661},\"x\":{\"field\":\"date\"},\"y\":{\"field\":\"Popularity Rating\"}},\"id\":\"1374\",\"type\":\"Scatter\"},{\"attributes\":{\"data\":{\"Popularity Rating\":{\"__ndarray__\":\"AAAAAACEhcAAAAAAAGyDQAAAAAAwl+1AmpmZmZnVqkCamZmZmU+aQAAAAAAQrv1A\",\"dtype\":\"float64\",\"shape\":[6]},\"Popularity_Rating\":{\"__ndarray__\":\"AAAAAACEhcAAAAAAAGyDQAAAAAAwl+1AmpmZmZnVqkCamZmZmU+aQAAAAAAQrv1A\",\"dtype\":\"float64\",\"shape\":[6]},\"date\":[\"2017-11-28\",\"2019-02-21\",\"2020-01-10\",\"2020-05-01\",\"2020-05-15\",\"2020-12-20\"]},\"selected\":{\"id\":\"1371\"},\"selection_policy\":{\"id\":\"1400\"}},\"id\":\"1370\",\"type\":\"ColumnDataSource\"},{\"attributes\":{\"line_color\":\"#1f77b3\",\"line_width\":2,\"x\":{\"field\":\"date\"},\"y\":{\"field\":\"BTC_rolling_volume\"}},\"id\":\"1381\",\"type\":\"Line\"},{\"attributes\":{},\"id\":\"1404\",\"type\":\"UnionRenderers\"},{\"attributes\":{\"axis\":{\"id\":\"1344\"},\"dimension\":1,\"grid_line_color\":null,\"ticker\":null},\"id\":\"1347\",\"type\":\"Grid\"},{\"attributes\":{},\"id\":\"1371\",\"type\":\"Selection\"},{\"attributes\":{},\"id\":\"1337\",\"type\":\"CategoricalScale\"},{\"attributes\":{\"fill_alpha\":{\"value\":0.2},\"fill_color\":{\"value\":\"#1f77b3\"},\"line_alpha\":{\"value\":0.2},\"line_color\":{\"value\":\"#1f77b3\"},\"size\":{\"units\":\"screen\",\"value\":5.477225575051661},\"x\":{\"field\":\"date\"},\"y\":{\"field\":\"Popularity Rating\"}},\"id\":\"1375\",\"type\":\"Scatter\"},{\"attributes\":{},\"id\":\"1348\",\"type\":\"SaveTool\"}],\"root_ids\":[\"1325\"]},\"title\":\"Bokeh Application\",\"version\":\"2.0.2\"}};\n",
       "  var render_items = [{\"docid\":\"81e4a666-bb49-47d4-b826-7a1f92cbc751\",\"root_ids\":[\"1325\"],\"roots\":{\"1325\":\"03f0a354-efc4-4688-b72b-45c0f5e76e40\"}}];\n",
       "  root.Bokeh.embed.embed_items_notebook(docs_json, render_items);\n",
       "  }\n",
       "if (root.Bokeh !== undefined) {\n",
       "    embed_document(root);\n",
       "  } else {\n",
       "    var attempts = 0;\n",
       "    var timer = setInterval(function(root) {\n",
       "      if (root.Bokeh !== undefined) {\n",
       "        clearInterval(timer);\n",
       "        embed_document(root);\n",
       "      } else if (document.readyState == \"complete\") {\n",
       "        attempts++;\n",
       "        if (attempts > 100) {\n",
       "          clearInterval(timer);\n",
       "          console.log(\"Bokeh: ERROR: Unable to run BokehJS code because BokehJS library is missing\");\n",
       "        }\n",
       "      }\n",
       "    }, 10, root)\n",
       "  }\n",
       "})(window);</script>"
      ],
      "text/plain": [
       ":Overlay\n",
       "   .Scatter.I :Scatter   [date]   (Popularity Rating)\n",
       "   .Curve.I   :Curve   [date]   (BTC_rolling_volume)\n",
       "   .Area.I    :Area   [date]   (BTC_volume)"
      ]
     },
     "execution_count": 20,
     "metadata": {
      "application/vnd.holoviews_exec.v0+json": {
       "id": "1325"
      }
     },
     "output_type": "execute_result"
    }
   ],
   "source": [
    "def popularity_volume_elon():\n",
    "    return elon_data_df.hvplot.scatter(x='date', y='Popularity Rating', width=1000, height=500, yformatter='%.0f') * elon_data_df.hvplot.line(x='date', y='BTC_rolling_volume') * elon_data_df.hvplot.area(x='date', y='BTC_volume', stacked=False)\n",
    "popularity_volume_elon()"
   ]
  },
  {
   "cell_type": "code",
   "execution_count": 21,
   "metadata": {},
   "outputs": [
    {
     "data": {},
     "metadata": {},
     "output_type": "display_data"
    },
    {
     "data": {
      "application/vnd.holoviews_exec.v0+json": "",
      "text/html": [
       "<div id='1539'>\n",
       "\n",
       "\n",
       "\n",
       "\n",
       "\n",
       "  <div class=\"bk-root\" id=\"f269474c-376d-4b99-a952-0330a556f053\" data-root-id=\"1539\"></div>\n",
       "</div>\n",
       "<script type=\"application/javascript\">(function(root) {\n",
       "  function embed_document(root) {\n",
       "  var docs_json = {\"7fddd293-8229-4829-bd76-1fe854c77195\":{\"roots\":{\"references\":[{\"attributes\":{},\"id\":\"1558\",\"type\":\"BasicTicker\"},{\"attributes\":{\"axis\":{\"id\":\"1557\"},\"dimension\":1,\"grid_line_color\":null,\"ticker\":null},\"id\":\"1560\",\"type\":\"Grid\"},{\"attributes\":{},\"id\":\"1563\",\"type\":\"WheelZoomTool\"},{\"attributes\":{},\"id\":\"1565\",\"type\":\"ResetTool\"},{\"attributes\":{\"active_drag\":\"auto\",\"active_inspect\":\"auto\",\"active_multi\":null,\"active_scroll\":\"auto\",\"active_tap\":\"auto\",\"tools\":[{\"id\":\"1543\"},{\"id\":\"1544\"},{\"id\":\"1561\"},{\"id\":\"1562\"},{\"id\":\"1563\"},{\"id\":\"1564\"},{\"id\":\"1565\"}]},\"id\":\"1567\",\"type\":\"Toolbar\"},{\"attributes\":{\"margin\":[5,5,5,5],\"name\":\"HSpacer02936\",\"sizing_mode\":\"stretch_width\"},\"id\":\"1540\",\"type\":\"Spacer\"},{\"attributes\":{},\"id\":\"1604\",\"type\":\"UnionRenderers\"},{\"attributes\":{},\"id\":\"1588\",\"type\":\"Selection\"},{\"attributes\":{\"line_alpha\":0.1,\"line_color\":\"#1f77b3\",\"line_width\":2,\"x\":{\"field\":\"date\"},\"y\":{\"field\":\"BTC_daily_change\"}},\"id\":\"1591\",\"type\":\"Line\"},{\"attributes\":{\"fill_alpha\":{\"value\":0.1},\"fill_color\":{\"value\":\"#1f77b3\"},\"line_alpha\":{\"value\":0.1},\"line_color\":{\"value\":\"#1f77b3\"},\"size\":{\"units\":\"screen\",\"value\":5.477225575051661},\"x\":{\"field\":\"date\"},\"y\":{\"field\":\"Polarity Rating\"}},\"id\":\"1583\",\"type\":\"Scatter\"},{\"attributes\":{\"overlay\":{\"id\":\"1566\"}},\"id\":\"1564\",\"type\":\"BoxZoomTool\"},{\"attributes\":{\"text\":\"\",\"text_color\":{\"value\":\"black\"},\"text_font_size\":{\"value\":\"12pt\"}},\"id\":\"1546\",\"type\":\"Title\"},{\"attributes\":{\"line_alpha\":0.2,\"line_color\":\"#1f77b3\",\"line_width\":2,\"x\":{\"field\":\"date\"},\"y\":{\"field\":\"BTC_daily_change\"}},\"id\":\"1592\",\"type\":\"Line\"},{\"attributes\":{},\"id\":\"1575\",\"type\":\"CategoricalTickFormatter\"},{\"attributes\":{\"axis_label\":\"date\",\"bounds\":\"auto\",\"formatter\":{\"id\":\"1575\"},\"major_label_orientation\":\"horizontal\",\"ticker\":{\"id\":\"1555\"}},\"id\":\"1554\",\"type\":\"CategoricalAxis\"},{\"attributes\":{\"fill_color\":{\"value\":\"#1f77b3\"},\"line_color\":{\"value\":\"#1f77b3\"},\"size\":{\"units\":\"screen\",\"value\":5.477225575051661},\"x\":{\"field\":\"date\"},\"y\":{\"field\":\"Polarity Rating\"}},\"id\":\"1582\",\"type\":\"Scatter\"},{\"attributes\":{\"line_color\":\"#1f77b3\",\"line_width\":2,\"x\":{\"field\":\"date\"},\"y\":{\"field\":\"BTC_daily_change\"}},\"id\":\"1590\",\"type\":\"Line\"},{\"attributes\":{\"factors\":[\"2017-11-28\",\"2019-02-21\",\"2020-01-10\",\"2020-05-01\",\"2020-05-15\",\"2020-12-20\"],\"tags\":[[[\"date\",\"date\",null]]]},\"id\":\"1541\",\"type\":\"FactorRange\"},{\"attributes\":{\"data\":{\"BTC_daily_change\":{\"__ndarray__\":\"Zr0Yyol2VT8wnkFD/wSHv66ek943vpY/zvxqDhDMkb+oOuRmuAF/v4b+CS5W1KA/\",\"dtype\":\"float64\",\"shape\":[6]},\"date\":[\"2017-11-28\",\"2019-02-21\",\"2020-01-10\",\"2020-05-01\",\"2020-05-15\",\"2020-12-20\"]},\"selected\":{\"id\":\"1588\"},\"selection_policy\":{\"id\":\"1604\"}},\"id\":\"1587\",\"type\":\"ColumnDataSource\"},{\"attributes\":{\"callback\":null,\"renderers\":[{\"id\":\"1585\"}],\"tags\":[\"hv_created\"],\"tooltips\":[[\"date\",\"@{date}\"],[\"Polarity Rating\",\"@{Polarity_Rating}\"]]},\"id\":\"1543\",\"type\":\"HoverTool\"},{\"attributes\":{\"bottom_units\":\"screen\",\"fill_alpha\":0.5,\"fill_color\":\"lightgrey\",\"left_units\":\"screen\",\"level\":\"overlay\",\"line_alpha\":1.0,\"line_color\":\"black\",\"line_dash\":[4,4],\"line_width\":2,\"render_mode\":\"css\",\"right_units\":\"screen\",\"top_units\":\"screen\"},\"id\":\"1566\",\"type\":\"BoxAnnotation\"},{\"attributes\":{\"data_source\":{\"id\":\"1579\"},\"glyph\":{\"id\":\"1582\"},\"hover_glyph\":null,\"muted_glyph\":{\"id\":\"1584\"},\"nonselection_glyph\":{\"id\":\"1583\"},\"selection_glyph\":null,\"view\":{\"id\":\"1586\"}},\"id\":\"1585\",\"type\":\"GlyphRenderer\"},{\"attributes\":{\"margin\":[5,5,5,5],\"name\":\"HSpacer02937\",\"sizing_mode\":\"stretch_width\"},\"id\":\"1675\",\"type\":\"Spacer\"},{\"attributes\":{\"callback\":null,\"renderers\":[{\"id\":\"1593\"}],\"tags\":[\"hv_created\"],\"tooltips\":[[\"date\",\"@{date}\"],[\"BTC_daily_change\",\"@{BTC_daily_change}\"]]},\"id\":\"1544\",\"type\":\"HoverTool\"},{\"attributes\":{},\"id\":\"1577\",\"type\":\"BasicTickFormatter\"},{\"attributes\":{\"source\":{\"id\":\"1579\"}},\"id\":\"1586\",\"type\":\"CDSView\"},{\"attributes\":{\"fill_alpha\":{\"value\":0.2},\"fill_color\":{\"value\":\"#1f77b3\"},\"line_alpha\":{\"value\":0.2},\"line_color\":{\"value\":\"#1f77b3\"},\"size\":{\"units\":\"screen\",\"value\":5.477225575051661},\"x\":{\"field\":\"date\"},\"y\":{\"field\":\"Polarity Rating\"}},\"id\":\"1584\",\"type\":\"Scatter\"},{\"attributes\":{},\"id\":\"1561\",\"type\":\"SaveTool\"},{\"attributes\":{},\"id\":\"1555\",\"type\":\"CategoricalTicker\"},{\"attributes\":{\"data\":{\"Polarity Rating\":{\"__ndarray__\":\"AAAAAAAAyL+amZmZmZm5PwAAAAAAAOA/mpmZmZmZyT/NzMzMzMy8PwAAAAAAAOA/\",\"dtype\":\"float64\",\"shape\":[6]},\"Polarity_Rating\":{\"__ndarray__\":\"AAAAAAAAyL+amZmZmZm5PwAAAAAAAOA/mpmZmZmZyT/NzMzMzMy8PwAAAAAAAOA/\",\"dtype\":\"float64\",\"shape\":[6]},\"date\":[\"2017-11-28\",\"2019-02-21\",\"2020-01-10\",\"2020-05-01\",\"2020-05-15\",\"2020-12-20\"]},\"selected\":{\"id\":\"1580\"},\"selection_policy\":{\"id\":\"1602\"}},\"id\":\"1579\",\"type\":\"ColumnDataSource\"},{\"attributes\":{\"end\":0.56875,\"reset_end\":0.56875,\"reset_start\":-0.25625,\"start\":-0.25625,\"tags\":[[[\"Polarity Rating\",\"Polarity Rating\",null]]]},\"id\":\"1542\",\"type\":\"Range1d\"},{\"attributes\":{},\"id\":\"1580\",\"type\":\"Selection\"},{\"attributes\":{\"source\":{\"id\":\"1587\"}},\"id\":\"1594\",\"type\":\"CDSView\"},{\"attributes\":{\"axis_label\":\"Polarity Rating\",\"bounds\":\"auto\",\"formatter\":{\"id\":\"1577\"},\"major_label_orientation\":\"horizontal\",\"ticker\":{\"id\":\"1558\"}},\"id\":\"1557\",\"type\":\"LinearAxis\"},{\"attributes\":{},\"id\":\"1562\",\"type\":\"PanTool\"},{\"attributes\":{\"data_source\":{\"id\":\"1587\"},\"glyph\":{\"id\":\"1590\"},\"hover_glyph\":null,\"muted_glyph\":{\"id\":\"1592\"},\"nonselection_glyph\":{\"id\":\"1591\"},\"selection_glyph\":null,\"view\":{\"id\":\"1594\"}},\"id\":\"1593\",\"type\":\"GlyphRenderer\"},{\"attributes\":{},\"id\":\"1550\",\"type\":\"CategoricalScale\"},{\"attributes\":{},\"id\":\"1602\",\"type\":\"UnionRenderers\"},{\"attributes\":{\"axis\":{\"id\":\"1554\"},\"grid_line_color\":null,\"ticker\":null},\"id\":\"1556\",\"type\":\"Grid\"},{\"attributes\":{},\"id\":\"1552\",\"type\":\"LinearScale\"},{\"attributes\":{\"children\":[{\"id\":\"1540\"},{\"id\":\"1545\"},{\"id\":\"1675\"}],\"margin\":[0,0,0,0],\"name\":\"Row02932\",\"tags\":[\"embedded\"]},\"id\":\"1539\",\"type\":\"Row\"},{\"attributes\":{\"below\":[{\"id\":\"1554\"}],\"center\":[{\"id\":\"1556\"},{\"id\":\"1560\"}],\"left\":[{\"id\":\"1557\"}],\"margin\":null,\"min_border_bottom\":10,\"min_border_left\":10,\"min_border_right\":10,\"min_border_top\":10,\"plot_height\":300,\"plot_width\":700,\"renderers\":[{\"id\":\"1585\"},{\"id\":\"1593\"}],\"sizing_mode\":\"fixed\",\"title\":{\"id\":\"1546\"},\"toolbar\":{\"id\":\"1567\"},\"x_range\":{\"id\":\"1541\"},\"x_scale\":{\"id\":\"1550\"},\"y_range\":{\"id\":\"1542\"},\"y_scale\":{\"id\":\"1552\"}},\"id\":\"1545\",\"subtype\":\"Figure\",\"type\":\"Plot\"}],\"root_ids\":[\"1539\"]},\"title\":\"Bokeh Application\",\"version\":\"2.0.2\"}};\n",
       "  var render_items = [{\"docid\":\"7fddd293-8229-4829-bd76-1fe854c77195\",\"root_ids\":[\"1539\"],\"roots\":{\"1539\":\"f269474c-376d-4b99-a952-0330a556f053\"}}];\n",
       "  root.Bokeh.embed.embed_items_notebook(docs_json, render_items);\n",
       "  }\n",
       "if (root.Bokeh !== undefined) {\n",
       "    embed_document(root);\n",
       "  } else {\n",
       "    var attempts = 0;\n",
       "    var timer = setInterval(function(root) {\n",
       "      if (root.Bokeh !== undefined) {\n",
       "        clearInterval(timer);\n",
       "        embed_document(root);\n",
       "      } else if (document.readyState == \"complete\") {\n",
       "        attempts++;\n",
       "        if (attempts > 100) {\n",
       "          clearInterval(timer);\n",
       "          console.log(\"Bokeh: ERROR: Unable to run BokehJS code because BokehJS library is missing\");\n",
       "        }\n",
       "      }\n",
       "    }, 10, root)\n",
       "  }\n",
       "})(window);</script>"
      ],
      "text/plain": [
       ":Overlay\n",
       "   .Scatter.I :Scatter   [date]   (Polarity Rating)\n",
       "   .Curve.I   :Curve   [date]   (BTC_daily_change)"
      ]
     },
     "execution_count": 21,
     "metadata": {
      "application/vnd.holoviews_exec.v0+json": {
       "id": "1539"
      }
     },
     "output_type": "execute_result"
    }
   ],
   "source": [
    "def daily_change_elon():\n",
    "    return elon_data_df.hvplot.scatter(y='Polarity Rating', x='date') * elon_data_df.hvplot(x='date', y='BTC_daily_change')\n",
    "daily_change_elon()"
   ]
  },
  {
   "cell_type": "code",
   "execution_count": 22,
   "metadata": {},
   "outputs": [
    {
     "data": {},
     "metadata": {},
     "output_type": "display_data"
    },
    {
     "data": {
      "application/vnd.holoviews_exec.v0+json": "",
      "text/html": [
       "<div id='1727'>\n",
       "\n",
       "\n",
       "\n",
       "\n",
       "\n",
       "  <div class=\"bk-root\" id=\"d7d2111d-9089-4cc4-94b8-df4c08ca41ea\" data-root-id=\"1727\"></div>\n",
       "</div>\n",
       "<script type=\"application/javascript\">(function(root) {\n",
       "  function embed_document(root) {\n",
       "  var docs_json = {\"f8999cf2-32a1-4f5e-8319-7d14b43efcec\":{\"roots\":{\"references\":[{\"attributes\":{\"axis_label\":\"\",\"bounds\":\"auto\",\"formatter\":{\"id\":\"1772\"},\"major_label_orientation\":\"horizontal\",\"ticker\":{\"id\":\"1745\"}},\"id\":\"1744\",\"type\":\"LinearAxis\"},{\"attributes\":{},\"id\":\"1781\",\"type\":\"UnionRenderers\"},{\"attributes\":{\"factors\":[[\"2017-11-28\",\"BTC_volume_change\"],[\"2017-11-28\",\"Polarity Rating\"],[\"2019-02-21\",\"BTC_volume_change\"],[\"2019-02-21\",\"Polarity Rating\"],[\"2020-01-10\",\"BTC_volume_change\"],[\"2020-01-10\",\"Polarity Rating\"],[\"2020-05-01\",\"BTC_volume_change\"],[\"2020-05-01\",\"Polarity Rating\"],[\"2020-05-15\",\"BTC_volume_change\"],[\"2020-05-15\",\"Polarity Rating\"],[\"2020-12-20\",\"BTC_volume_change\"],[\"2020-12-20\",\"Polarity Rating\"]],\"tags\":[[[\"date\",\"date\",null],[\"Variable\",\"Variable\",null]]]},\"id\":\"1729\",\"type\":\"FactorRange\"},{\"attributes\":{\"text\":\"\",\"text_color\":{\"value\":\"black\"},\"text_font_size\":{\"value\":\"12pt\"}},\"id\":\"1733\",\"type\":\"Title\"},{\"attributes\":{\"factors\":[\"Polarity Rating\",\"BTC_volume_change\"],\"palette\":[\"#1f77b3\",\"#ff7e0e\"]},\"id\":\"1761\",\"type\":\"CategoricalColorMapper\"},{\"attributes\":{\"axis_label\":\"date, Variable\",\"bounds\":\"auto\",\"formatter\":{\"id\":\"1770\"},\"major_label_orientation\":0.7853981633974483,\"ticker\":{\"id\":\"1742\"}},\"id\":\"1741\",\"type\":\"CategoricalAxis\"},{\"attributes\":{\"axis\":{\"id\":\"1741\"},\"grid_line_color\":null,\"ticker\":null},\"id\":\"1743\",\"type\":\"Grid\"},{\"attributes\":{},\"id\":\"1770\",\"type\":\"CategoricalTickFormatter\"},{\"attributes\":{\"axis\":{\"id\":\"1744\"},\"dimension\":1,\"grid_line_color\":null,\"ticker\":null},\"id\":\"1747\",\"type\":\"Grid\"},{\"attributes\":{},\"id\":\"1739\",\"type\":\"LinearScale\"},{\"attributes\":{},\"id\":\"1748\",\"type\":\"SaveTool\"},{\"attributes\":{\"margin\":[5,5,5,5],\"name\":\"HSpacer03360\",\"sizing_mode\":\"stretch_width\"},\"id\":\"1728\",\"type\":\"Spacer\"},{\"attributes\":{},\"id\":\"1749\",\"type\":\"PanTool\"},{\"attributes\":{\"data\":{\"Variable\":[\"Polarity Rating\",\"Polarity Rating\",\"Polarity Rating\",\"Polarity Rating\",\"Polarity Rating\",\"Polarity Rating\",\"BTC_volume_change\",\"BTC_volume_change\",\"BTC_volume_change\",\"BTC_volume_change\",\"BTC_volume_change\",\"BTC_volume_change\"],\"date\":[\"2017-11-28\",\"2019-02-21\",\"2020-01-10\",\"2020-05-01\",\"2020-05-15\",\"2020-12-20\",\"2017-11-28\",\"2019-02-21\",\"2020-01-10\",\"2020-05-01\",\"2020-05-15\",\"2020-12-20\"],\"value\":{\"__ndarray__\":\"AAAAAAAAyL+amZmZmZm5PwAAAAAAAOA/mpmZmZmZyT/NzMzMzMy8PwAAAAAAAOA/XI/C9Shc578zMzMzMzPDP/YoXI/C9eg/9ihcj8L18D9xPQrXo3D1P+F6FK5H4dq/\",\"dtype\":\"float64\",\"shape\":[12]},\"xoffsets\":[[\"2017-11-28\",\"Polarity Rating\"],[\"2019-02-21\",\"Polarity Rating\"],[\"2020-01-10\",\"Polarity Rating\"],[\"2020-05-01\",\"Polarity Rating\"],[\"2020-05-15\",\"Polarity Rating\"],[\"2020-12-20\",\"Polarity Rating\"],[\"2017-11-28\",\"BTC_volume_change\"],[\"2019-02-21\",\"BTC_volume_change\"],[\"2020-01-10\",\"BTC_volume_change\"],[\"2020-05-01\",\"BTC_volume_change\"],[\"2020-05-15\",\"BTC_volume_change\"],[\"2020-12-20\",\"BTC_volume_change\"]]},\"selected\":{\"id\":\"1763\"},\"selection_policy\":{\"id\":\"1781\"}},\"id\":\"1762\",\"type\":\"ColumnDataSource\"},{\"attributes\":{},\"id\":\"1750\",\"type\":\"WheelZoomTool\"},{\"attributes\":{\"margin\":[5,5,5,5],\"name\":\"HSpacer03361\",\"sizing_mode\":\"stretch_width\"},\"id\":\"1782\",\"type\":\"Spacer\"},{\"attributes\":{\"below\":[{\"id\":\"1741\"}],\"center\":[{\"id\":\"1743\"},{\"id\":\"1747\"}],\"left\":[{\"id\":\"1744\"}],\"margin\":null,\"min_border_bottom\":10,\"min_border_left\":10,\"min_border_right\":10,\"min_border_top\":10,\"plot_height\":300,\"plot_width\":700,\"renderers\":[{\"id\":\"1768\"}],\"sizing_mode\":\"fixed\",\"title\":{\"id\":\"1733\"},\"toolbar\":{\"id\":\"1754\"},\"x_range\":{\"id\":\"1729\"},\"x_scale\":{\"id\":\"1737\"},\"y_range\":{\"id\":\"1730\"},\"y_scale\":{\"id\":\"1739\"}},\"id\":\"1732\",\"subtype\":\"Figure\",\"type\":\"Plot\"},{\"attributes\":{\"overlay\":{\"id\":\"1753\"}},\"id\":\"1751\",\"type\":\"BoxZoomTool\"},{\"attributes\":{},\"id\":\"1772\",\"type\":\"BasicTickFormatter\"},{\"attributes\":{},\"id\":\"1752\",\"type\":\"ResetTool\"},{\"attributes\":{\"fill_alpha\":{\"value\":0.1},\"fill_color\":{\"field\":\"Variable\",\"transform\":{\"id\":\"1761\"}},\"line_alpha\":{\"value\":0.1},\"top\":{\"field\":\"value\"},\"width\":{\"value\":0.8},\"x\":{\"field\":\"xoffsets\"}},\"id\":\"1766\",\"type\":\"VBar\"},{\"attributes\":{\"children\":[{\"id\":\"1728\"},{\"id\":\"1732\"},{\"id\":\"1782\"}],\"margin\":[0,0,0,0],\"name\":\"Row03356\",\"tags\":[\"embedded\"]},\"id\":\"1727\",\"type\":\"Row\"},{\"attributes\":{\"active_drag\":\"auto\",\"active_inspect\":\"auto\",\"active_multi\":null,\"active_scroll\":\"auto\",\"active_tap\":\"auto\",\"tools\":[{\"id\":\"1731\"},{\"id\":\"1748\"},{\"id\":\"1749\"},{\"id\":\"1750\"},{\"id\":\"1751\"},{\"id\":\"1752\"}]},\"id\":\"1754\",\"type\":\"Toolbar\"},{\"attributes\":{\"fill_color\":{\"field\":\"Variable\",\"transform\":{\"id\":\"1761\"}},\"top\":{\"field\":\"value\"},\"width\":{\"value\":0.8},\"x\":{\"field\":\"xoffsets\"}},\"id\":\"1765\",\"type\":\"VBar\"},{\"attributes\":{\"fill_alpha\":{\"value\":0.2},\"fill_color\":{\"field\":\"Variable\",\"transform\":{\"id\":\"1761\"}},\"line_alpha\":{\"value\":0.2},\"top\":{\"field\":\"value\"},\"width\":{\"value\":0.8},\"x\":{\"field\":\"xoffsets\"}},\"id\":\"1767\",\"type\":\"VBar\"},{\"attributes\":{\"source\":{\"id\":\"1762\"}},\"id\":\"1769\",\"type\":\"CDSView\"},{\"attributes\":{\"callback\":null,\"renderers\":[{\"id\":\"1768\"}],\"tags\":[\"hv_created\"],\"tooltips\":[[\"date\",\"@{date}\"],[\"Variable\",\"@{Variable}\"],[\"value\",\"@{value}\"]]},\"id\":\"1731\",\"type\":\"HoverTool\"},{\"attributes\":{},\"id\":\"1763\",\"type\":\"Selection\"},{\"attributes\":{\"end\":1.5470000000000002,\"reset_end\":1.5470000000000002,\"reset_start\":-0.937,\"start\":-0.937,\"tags\":[[[\"value\",\"value\",null]]]},\"id\":\"1730\",\"type\":\"Range1d\"},{\"attributes\":{},\"id\":\"1742\",\"type\":\"CategoricalTicker\"},{\"attributes\":{\"bottom_units\":\"screen\",\"fill_alpha\":0.5,\"fill_color\":\"lightgrey\",\"left_units\":\"screen\",\"level\":\"overlay\",\"line_alpha\":1.0,\"line_color\":\"black\",\"line_dash\":[4,4],\"line_width\":2,\"render_mode\":\"css\",\"right_units\":\"screen\",\"top_units\":\"screen\"},\"id\":\"1753\",\"type\":\"BoxAnnotation\"},{\"attributes\":{\"data_source\":{\"id\":\"1762\"},\"glyph\":{\"id\":\"1765\"},\"hover_glyph\":null,\"muted_glyph\":{\"id\":\"1767\"},\"nonselection_glyph\":{\"id\":\"1766\"},\"selection_glyph\":null,\"view\":{\"id\":\"1769\"}},\"id\":\"1768\",\"type\":\"GlyphRenderer\"},{\"attributes\":{},\"id\":\"1737\",\"type\":\"CategoricalScale\"},{\"attributes\":{},\"id\":\"1745\",\"type\":\"BasicTicker\"}],\"root_ids\":[\"1727\"]},\"title\":\"Bokeh Application\",\"version\":\"2.0.2\"}};\n",
       "  var render_items = [{\"docid\":\"f8999cf2-32a1-4f5e-8319-7d14b43efcec\",\"root_ids\":[\"1727\"],\"roots\":{\"1727\":\"d7d2111d-9089-4cc4-94b8-df4c08ca41ea\"}}];\n",
       "  root.Bokeh.embed.embed_items_notebook(docs_json, render_items);\n",
       "  }\n",
       "if (root.Bokeh !== undefined) {\n",
       "    embed_document(root);\n",
       "  } else {\n",
       "    var attempts = 0;\n",
       "    var timer = setInterval(function(root) {\n",
       "      if (root.Bokeh !== undefined) {\n",
       "        clearInterval(timer);\n",
       "        embed_document(root);\n",
       "      } else if (document.readyState == \"complete\") {\n",
       "        attempts++;\n",
       "        if (attempts > 100) {\n",
       "          clearInterval(timer);\n",
       "          console.log(\"Bokeh: ERROR: Unable to run BokehJS code because BokehJS library is missing\");\n",
       "        }\n",
       "      }\n",
       "    }, 10, root)\n",
       "  }\n",
       "})(window);</script>"
      ],
      "text/plain": [
       ":Bars   [date,Variable]   (value)"
      ]
     },
     "execution_count": 22,
     "metadata": {
      "application/vnd.holoviews_exec.v0+json": {
       "id": "1727"
      }
     },
     "output_type": "execute_result"
    }
   ],
   "source": [
    "def volume_change():\n",
    "    return elon_data_df.hvplot.bar(y=['Polarity Rating', 'BTC_volume_change'], x='date', rot=45)\n",
    "volume_change()"
   ]
  },
  {
   "cell_type": "code",
   "execution_count": null,
   "metadata": {},
   "outputs": [],
   "source": []
  }
 ],
 "metadata": {
  "kernelspec": {
   "display_name": "Python 3",
   "language": "python",
   "name": "python3"
  },
  "language_info": {
   "codemirror_mode": {
    "name": "ipython",
    "version": 3
   },
   "file_extension": ".py",
   "mimetype": "text/x-python",
   "name": "python",
   "nbconvert_exporter": "python",
   "pygments_lexer": "ipython3",
   "version": "3.8.5"
  }
 },
 "nbformat": 4,
 "nbformat_minor": 4
}
